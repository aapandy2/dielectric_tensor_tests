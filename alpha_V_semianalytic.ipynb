{
 "cells": [
  {
   "cell_type": "code",
   "execution_count": 251,
   "metadata": {
    "collapsed": true
   },
   "outputs": [],
   "source": [
    "%matplotlib inline\n",
    "import numpy as np\n",
    "import pylab as pl\n",
    "import time\n",
    "import scipy.special as special\n",
    "from scipy.integrate import quad, dblquad, fixed_quad\n",
    "\n",
    "# Set plot parameters to make beautiful plots\n",
    "pl.rcParams['figure.figsize']  = 12, 7.5\n",
    "pl.rcParams['lines.linewidth'] = 1.5\n",
    "pl.rcParams['font.family']     = 'serif'\n",
    "pl.rcParams['font.weight']     = 'bold'\n",
    "pl.rcParams['font.size']       = 20  \n",
    "pl.rcParams['font.sans-serif'] = 'serif'\n",
    "pl.rcParams['text.usetex']     = True\n",
    "pl.rcParams['axes.linewidth']  = 1.5\n",
    "pl.rcParams['axes.titlesize']  = 'medium'\n",
    "pl.rcParams['axes.labelsize']  = 'large'\n",
    "\n",
    "pl.rcParams['xtick.major.size'] = 8     \n",
    "pl.rcParams['xtick.minor.size'] = 4     \n",
    "pl.rcParams['xtick.major.pad']  = 8     \n",
    "pl.rcParams['xtick.minor.pad']  = 8     \n",
    "pl.rcParams['xtick.color']      = 'k'     \n",
    "pl.rcParams['xtick.labelsize']  = 'large'\n",
    "pl.rcParams['xtick.direction']  = 'in'    \n",
    "\n",
    "pl.rcParams['ytick.major.size'] = 8     \n",
    "pl.rcParams['ytick.minor.size'] = 4     \n",
    "pl.rcParams['ytick.major.pad']  = 8     \n",
    "pl.rcParams['ytick.minor.pad']  = 8     \n",
    "pl.rcParams['ytick.color']      = 'k'     \n",
    "pl.rcParams['ytick.labelsize']  = 'large'\n",
    "pl.rcParams['ytick.direction']  = 'in'"
   ]
  },
  {
   "cell_type": "code",
   "execution_count": 252,
   "metadata": {
    "collapsed": false
   },
   "outputs": [],
   "source": [
    "# EVERYTHING IS 1 units\n",
    "\n",
    "#constants\n",
    "epsilon0  = 1./(4. * np.pi)\n",
    "e = 4.80320680e-10\n",
    "m = 9.1093826e-28\n",
    "c = 2.99792458e10\n",
    "\n",
    "epsilon  = -1.    #sign of electron charge\n",
    "\n",
    "#parameters\n",
    "B       = 1.         #background B strength\n",
    "n_e     = 1.         #electron number density cm^-3\n",
    "theta_e = 0.5         #dimensionless electron temp\n",
    "theta   = np.pi/3.    #observer angle\n",
    "\n",
    "#derived quantities\n",
    "omega_p = np.sqrt(n_e * e**2. / (m * epsilon0))     # plasma frequency    (=1 in these units)\n",
    "omega_c = e * B / (m * c)                           # cyclotron frequency (=1 in these units)"
   ]
  },
  {
   "cell_type": "code",
   "execution_count": 253,
   "metadata": {
    "collapsed": false
   },
   "outputs": [],
   "source": [
    "def K_12_prefactor(omega):\n",
    "    prefactor = - 1. * omega_p**2. / (omega * omega) * 1./(4. * theta_e**2. * special.kn(2, 1./theta_e))\n",
    "    return prefactor\n",
    "\n",
    "def K_12_integrand(gamma, cos_xi, tau_prime, omega):    \n",
    "    prefactor  = 1j\n",
    "    beta       = np.sqrt(1. - 1./gamma**2.)\n",
    "    sin_xi     = np.sqrt(1. - cos_xi**2.)\n",
    "    p_perp_bar = gamma * beta * sin_xi\n",
    "    p_z_bar    = gamma * beta * cos_xi\n",
    "    beta_perp  = p_perp_bar / gamma\n",
    "    beta_z     = p_z_bar    / gamma\n",
    "    alpha      = beta * np.cos(theta) * tau_prime\n",
    "    delta      = 2. * omega/(epsilon * omega_c) * np.sin(theta) * gamma * beta * np.sin(\n",
    "                (epsilon * omega_c / omega) * tau_prime / (2. * gamma))\n",
    "    \n",
    "    gamma_term = beta**2. * np.exp(-gamma/theta_e) * np.sin((epsilon * omega_c / omega) * tau_prime / gamma)\n",
    "    tau_term   = np.exp(1j * tau_prime)\n",
    "    xi_term    = sin_xi**2. * np.exp(-1j * alpha * cos_xi) * special.j0(delta * sin_xi)\n",
    "    ans        = prefactor * gamma_term * xi_term * tau_term\n",
    "    return ans * gamma**2. * beta \n",
    "\n",
    "def K_32_prefactor(omega):\n",
    "    prefactor = omega_p**2. / (omega * omega) * 1./(2. * theta_e**2. * special.kn(2, 1./theta_e))\n",
    "    return prefactor\n",
    "\n",
    "def K_32_integrand(gamma, cos_xi, tau_prime, omega):\n",
    "    prefactor = 1.\n",
    "    beta       = np.sqrt(1. - 1./gamma**2.)\n",
    "    sin_xi     = np.sqrt(1. - cos_xi**2.)\n",
    "    p_perp_bar = gamma * beta * sin_xi\n",
    "    p_z_bar    = gamma * beta * cos_xi\n",
    "    beta_perp = p_perp_bar / gamma\n",
    "    beta_z    = p_z_bar    / gamma\n",
    "    alpha      = beta * np.cos(theta) * tau_prime\n",
    "    delta      = 2. * omega/(epsilon * omega_c) * np.sin(theta) * gamma * beta * np.sin(\n",
    "                (epsilon * omega_c / omega) * tau_prime / (2. * gamma))\n",
    "    \n",
    "    gamma_term = beta**2. * np.exp(-gamma/theta_e) * np.sin((epsilon * omega_c / omega) * tau_prime / (2. * gamma))\n",
    "    tau_term   = np.exp(1j * tau_prime)\n",
    "    xi_term    = special.jn(1, delta * sin_xi) * (cos_xi * sin_xi) * np.exp(-1j * alpha * cos_xi) \n",
    "    ans        = prefactor * gamma_term * tau_term * xi_term\n",
    "    return ans * gamma**2. * beta"
   ]
  },
  {
   "cell_type": "code",
   "execution_count": 254,
   "metadata": {
    "collapsed": false
   },
   "outputs": [
    {
     "name": "stdout",
     "output_type": "stream",
     "text": [
      "-0.0187707055538\n",
      "-0.0187707055538\n"
     ]
    }
   ],
   "source": [
    "gamma     = 1.5\n",
    "tau_prime = 1.\n",
    "omega     = omega_c\n",
    "\n",
    "def K_12_xi_integrateda(gamma, tau_prime, omega):    \n",
    "    prefactor  = 1j\n",
    "    beta       = np.sqrt(1. - 1./gamma**2.)\n",
    "    alpha      = beta * np.cos(theta) * tau_prime\n",
    "    delta      = 2. * omega/(epsilon * omega_c) * np.sin(theta) * gamma * beta * np.sin(\n",
    "                (epsilon * omega_c / omega) * tau_prime / (2. * gamma))\n",
    "    \n",
    "    gamma_term = beta**2. * np.exp(-gamma/theta_e) * np.sin((epsilon * omega_c / omega) * tau_prime / gamma)\n",
    "    tau_term   = np.exp(1j * tau_prime)\n",
    "    \n",
    "    if(alpha == 0 or delta == 0):\n",
    "        return 0.\n",
    "    \n",
    "    xi_term    = I_1_analytic(alpha, delta)\n",
    "    ans        = prefactor * gamma_term * xi_term * tau_term\n",
    "    return ans * gamma**2. * beta \n",
    "\n",
    "def I_1_integrand(x, alpha, delta):\n",
    "    ans = (1. - x**2.) * np.cos(alpha * x) * special.j0(delta * np.sqrt(1. - x**2.))\n",
    "    return ans\n",
    "\n",
    "def I_1_analytic(alpha, delta):\n",
    "    A     = np.sqrt(alpha**2. + delta**2.)\n",
    "    minus = np.sqrt(A - alpha)\n",
    "    plus  = np.sqrt(A + alpha)\n",
    "    ds    = -np.sign(delta)\n",
    "    outer = 2. * delta**6. / (alpha**3. * A**5. * minus**7. * plus**7.)\n",
    "    inner = ((ds*2. * alpha * A**5. * (delta + ds*minus * plus)) * np.cos(alpha)\n",
    "             + alpha**3. * delta * ds*(2. * alpha**2. - delta**2.) * A * np.cos(A)\n",
    "             + ds*2. * alpha**4. * delta * A * np.sin(alpha)\n",
    "             + ds*4. * alpha**2. * delta**3. * A * np.sin(alpha)\n",
    "             + ds*2. * delta**5. * A * np.sin(alpha)\n",
    "             + 2. * alpha**4. * A * minus * plus * np.sin(alpha)\n",
    "             + 4. * alpha**2. * delta**2. * A * minus * plus * np.sin(alpha)\n",
    "             + 2. * delta**4. * A * minus * plus * np.sin(alpha)\n",
    "             - ds*alpha**3. * delta * (2. * alpha**2. + (-1. + alpha**2.) * delta**2. + delta**4.) * np.sin(A))\n",
    "    ans   = outer * inner\n",
    "    return ans\n",
    "\n",
    "def K_12_xi_integrated(gamma, tau_prime, omega):\n",
    "    real_part = quad(lambda cos_xi: K_12_integrand(gamma, cos_xi, tau_prime, omega).real, -1., 1.)\n",
    "    imag_part = quad(lambda cos_xi: K_12_integrand(gamma, cos_xi, tau_prime, omega).imag, -1., 1.)\n",
    "    ans       = real_part[0] + 1j * imag_part[0]\n",
    "    return ans\n",
    "\n",
    "print quad(lambda cos_xi: K_12_integrand(gamma, cos_xi, tau_prime, omega).imag, -1., 1.)[0]\n",
    "print K_12_xi_integrateda(gamma, tau_prime, omega).imag"
   ]
  },
  {
   "cell_type": "code",
   "execution_count": 255,
   "metadata": {
    "collapsed": false
   },
   "outputs": [],
   "source": [
    "def n_locator(n, tau_prime, omega):\n",
    "    if(n == 0):\n",
    "        return 1.\n",
    "    ans = omega_c * tau_prime / (n * np.pi * omega)\n",
    "    if(ans < 1.):\n",
    "        return 1.\n",
    "    return ans\n",
    "\n",
    "def K_12_gam_integrator(tau_prime, omega):\n",
    "    gamma_limit = 5\n",
    "    gamma_max   = 100.\n",
    "    \n",
    "    n_max = int( (omega_c * tau_prime) / (np.pi * omega) )\n",
    "    n_min = int(n_max / gamma_limit) + 1\n",
    "    \n",
    "#    print 'n_max', n_max, n_locator(n_max, tau_prime, omega)\n",
    "       \n",
    "    ans   = quad(lambda gamma: K_12_xi_integrateda(gamma, tau_prime, omega), \n",
    "                 gamma_max, n_locator(n_min, tau_prime, omega))[0]\n",
    "\n",
    "    if(np.isnan(ans)):\n",
    "        ans = 0\n",
    "#        print 'FIRST ONE WAS NAN', gamma_max, n_locator(n_min, tau_prime, omega), n_min\n",
    "#    print 'infinity', n_locator(n_min, tau_prime, omega), ans\n",
    "\n",
    "    for n in range(n_min, n_max):\n",
    "        ans += quad(lambda gamma: K_12_xi_integrateda(gamma, tau_prime, omega), \n",
    "                    n_locator(n, tau_prime, omega), n_locator(n+1, tau_prime, omega))[0]\n",
    "#        print n_locator(n, tau_prime, omega), n_locator(n+1, tau_prime, omega), ans\n",
    "    \n",
    "    ans += quad(lambda gamma: K_12_xi_integrateda(gamma, tau_prime, omega), \n",
    "               n_locator(n_max, tau_prime, omega), 1)[0]\n",
    "#    print n_locator(n_max, tau_prime, omega), 1, ans\n",
    "#    ans = 0.\n",
    "    return -ans"
   ]
  },
  {
   "cell_type": "code",
   "execution_count": 256,
   "metadata": {
    "collapsed": false
   },
   "outputs": [
    {
     "name": "stdout",
     "output_type": "stream",
     "text": [
      "4.68675848705e-07\n"
     ]
    },
    {
     "name": "stderr",
     "output_type": "stream",
     "text": [
      "/home/alex/.local/lib/python2.7/site-packages/ipykernel/__main__.py:7: RuntimeWarning: divide by zero encountered in divide\n",
      "/home/alex/.local/lib/python2.7/site-packages/ipykernel/__main__.py:38: RuntimeWarning: invalid value encountered in multiply\n",
      "/home/alex/.local/lib/python2.7/site-packages/ipykernel/__main__.py:7: RuntimeWarning: divide by zero encountered in double_scalars\n"
     ]
    },
    {
     "name": "stdout",
     "output_type": "stream",
     "text": [
      "7.08669616403e-07\n"
     ]
    }
   ],
   "source": [
    "def I_2_p1(alpha, delta):\n",
    "    A     = np.sqrt(alpha**2. + delta**2.)\n",
    "    plus  = np.sqrt(A + alpha)\n",
    "    minus = np.sqrt(A - alpha)\n",
    "    num   = alpha * delta**8. * (3. * A * np.cos(A) + 0.)\n",
    "    denom = A**5. * minus**7. * plus**7.\n",
    "    ans   = -num / denom\n",
    "    return ans\n",
    "\n",
    "def I_2_p2(alpha, delta):\n",
    "    A     = np.sqrt(alpha**2. + delta**2.)\n",
    "    plus  = np.sqrt(A + alpha)\n",
    "    minus = np.sqrt(A - alpha)\n",
    "    num   = alpha * delta**8. * (0. + (-3. + alpha**2. + delta**2.) * np.sin(A))\n",
    "    denom = A**5. * minus**7. * plus**7.\n",
    "    ans   = -num / denom\n",
    "    return ans\n",
    "\n",
    "def K_32_p1(gamma, tau_prime, omega):\n",
    "    \n",
    "    if(gamma < 1.):\n",
    "#        print 'GAMMA LESS THAN 1'\n",
    "        return 100.\n",
    "\n",
    "    prefactor = 1.\n",
    "    beta       = np.sqrt(1. - 1./gamma**2.)\n",
    "    alpha      = beta * np.cos(theta) * tau_prime\n",
    "    delta      = 2. * omega/(epsilon * omega_c) * np.sin(theta) * gamma * beta * np.sin(\n",
    "                (epsilon * omega_c / omega) * tau_prime / (2. * gamma))\n",
    "    gamma_term = beta**2. * np.exp(-gamma/theta_e) * np.sin((epsilon * omega_c / omega) * tau_prime / (2. * gamma))\n",
    "    tau_term   = np.exp(1j * tau_prime)\n",
    "    \n",
    "    if(alpha == 0 or delta == 0):\n",
    "        return 0.\n",
    "    \n",
    "#    print alpha, delta\n",
    "#    xi_term    = -2j * (I_2_p1(alpha, delta) + I_2_p2(alpha, delta))\n",
    "    xi_term    = -2j * (I_2_p1(alpha, delta) + 0.)\n",
    "    ans        = prefactor * gamma_term * tau_term * xi_term\n",
    "    \n",
    "    if(delta < 0):\n",
    "        #print 'HERE'\n",
    "        ans = ans * -1.\n",
    "    \n",
    "    return ans * gamma**2. * beta\n",
    "\n",
    "\n",
    "omega  = 1. * omega_c\n",
    "tau    = 100.\n",
    "gamma  = np.linspace(1., 10., 1000)\n",
    "\n",
    "def n1_loc(n1, tau_prime):\n",
    "    ans = omega_c * tau_prime / (2. * n1 * np.pi * omega)\n",
    "    return ans\n",
    "\n",
    "\n",
    "#for n1 in range(6, n1_max+1):\n",
    "#    pl.axvline(n1_loc(n1, tau), color='red')\n",
    "#    print n1, n1_loc(n1, tau)\n",
    "\n",
    "\n",
    "def n2_loc(n2, tau_prime):\n",
    "    ans = 1. / np.sqrt(1. - (n2 * np.pi / (2. * tau_prime))**2.)\n",
    "    return ans\n",
    "\n",
    "from scipy.optimize import newton, fsolve, root\n",
    "\n",
    "guess    = 0.\n",
    "rootfind = 0.\n",
    "\n",
    "\n",
    "\n",
    "def root_locations(tau_prime, omega):\n",
    "    solutions = np.empty(0)\n",
    "    \n",
    "    n1_min = 1\n",
    "    n1_max = int(omega_c * tau / (2. * omega * np.pi))\n",
    "    for n1 in range(n1_min, n1_max+1):\n",
    "        sine_roots = n1_loc(n1, tau_prime)\n",
    "        solutions = np.append(solutions, sine_roots)\n",
    "    \n",
    "    n2_max = int(2. * tau_prime / np.pi)\n",
    "    n2_min = 1\n",
    "    for n2 in range(n2_min, n2_max, 2):\n",
    "        guess = n2_loc(n2, tau)\n",
    "        rootfind = root(lambda gamma: K_32_p1(gamma, tau, omega).real, guess).x[0]\n",
    "        solutions = np.append(solutions, rootfind)\n",
    "    \n",
    "    ans = np.unique(solutions)    \n",
    "    return ans\n",
    "\n",
    "def improved_integrator(tau_prime, omega):\n",
    "    \n",
    "    roots = root_locations(tau_prime, omega)\n",
    "    \n",
    "    ans = quad(lambda gamma: K_32_p1(gamma, tau_prime, omega).real, 1., roots[0])[0]\n",
    "    temp = 0.\n",
    "    for i in range(roots.size-1):\n",
    "        #print roots[i], roots[i+1], ans\n",
    "        temp += quad(lambda gamma: K_32_p1(gamma, tau_prime, omega).real, roots[i], roots[i+1])[0]\n",
    "        if(np.isnan(temp) == True):\n",
    "            temp = 0.\n",
    "        ans += temp\n",
    "    ans += quad(lambda gamma: K_32_p1(gamma, tau_prime, omega).real, roots[roots.size-1], np.inf)[0]\n",
    "\n",
    "    return ans\n",
    "\n",
    "print quad(lambda gamma: K_32_p1(gamma, tau, omega).real, 1., np.inf)[0]\n",
    "print improved_integrator(tau, omega)"
   ]
  },
  {
   "cell_type": "code",
   "execution_count": 257,
   "metadata": {
    "collapsed": false
   },
   "outputs": [
    {
     "name": "stdout",
     "output_type": "stream",
     "text": [
      "1 1\n"
     ]
    },
    {
     "name": "stderr",
     "output_type": "stream",
     "text": [
      "/home/alex/.local/lib/python2.7/site-packages/ipykernel/__main__.py:12: RuntimeWarning: invalid value encountered in sqrt\n"
     ]
    },
    {
     "data": {
      "text/plain": [
       "[<matplotlib.lines.Line2D at 0x7fc7f0928190>]"
      ]
     },
     "execution_count": 257,
     "metadata": {},
     "output_type": "execute_result"
    },
    {
     "data": {
      "image/png": "[encoded data removed]",
      "text/plain": [
       "<matplotlib.figure.Figure at 0x7fc7e3c81a10>"
      ]
     },
     "metadata": {},
     "output_type": "display_data"
    }
   ],
   "source": [
    "omega = 1. * omega_c\n",
    "tau   = 10.\n",
    "gamma_limit = 5.\n",
    "gamma = np.linspace(1., 2, 1000)\n",
    "n_max = int( (omega_c * tau) / (2. * np.pi * omega) )\n",
    "n_min = int(n_max / gamma_limit) + 1\n",
    "\n",
    "print n_min, n_max\n",
    "\n",
    "\n",
    "def gamma_zero(n2):\n",
    "    ans = 1. / np.sqrt(1. - (n2 * np.pi / (2. * np.cos(theta) * tau))**2.)\n",
    "    return ans\n",
    "\n",
    "\n",
    "\n",
    "#for n in range(n_min, n_max):\n",
    "#    pl.axvline(n_locator(n, tau, omega), color='gold')\n",
    "\n",
    "for n2 in range(1, 5, 1):\n",
    "    pl.axvline(gamma_zero(n2), color='black')\n",
    "        \n",
    "pl.axhline(0, color='gold')\n",
    "\n",
    "pl.plot(gamma, np.vectorize(K_12_xi_integrateda)(gamma, tau, omega).real)\n",
    "#pl.axvline(special.jn_zeros(0, 1)[0] * 1./tau + 1.)\n",
    "#print quad(lambda gamma: K_12_xi_integrateda(gamma, tau, omega), 1., 100.)\n",
    "#print K_12_gam_integrator(tau, omega)"
   ]
  },
  {
   "cell_type": "code",
   "execution_count": 258,
   "metadata": {
    "collapsed": false
   },
   "outputs": [
    {
     "name": "stderr",
     "output_type": "stream",
     "text": [
      "/usr/local/lib/python2.7/dist-packages/scipy/integrate/quadpack.py:380: ComplexWarning: Casting complex values to real discards the imaginary part\n",
      "  return _quadpack._qagse(func,a,b,args,full_output,epsabs,epsrel,limit)\n",
      "/usr/local/lib/python2.7/dist-packages/scipy/integrate/quadpack.py:356: IntegrationWarning: The integral is probably divergent, or slowly convergent.\n",
      "  warnings.warn(msg, IntegrationWarning)\n"
     ]
    },
    {
     "ename": "KeyboardInterrupt",
     "evalue": "",
     "output_type": "error",
     "traceback": [
      "\u001b[0;31m---------------------------------------------------------------------------\u001b[0m",
      "\u001b[0;31mKeyboardInterrupt\u001b[0m                         Traceback (most recent call last)",
      "\u001b[0;32m<ipython-input-258-1224112a0aa6>\u001b[0m in \u001b[0;36m<module>\u001b[0;34m()\u001b[0m\n\u001b[1;32m      8\u001b[0m \u001b[0;34m\u001b[0m\u001b[0m\n\u001b[1;32m      9\u001b[0m \u001b[0mtime_before\u001b[0m \u001b[0;34m=\u001b[0m \u001b[0mtime\u001b[0m\u001b[0;34m.\u001b[0m\u001b[0mtime\u001b[0m\u001b[0;34m(\u001b[0m\u001b[0;34m)\u001b[0m\u001b[0;34m\u001b[0m\u001b[0m\n\u001b[0;32m---> 10\u001b[0;31m \u001b[0mimproved\u001b[0m \u001b[0;34m=\u001b[0m \u001b[0mnp\u001b[0m\u001b[0;34m.\u001b[0m\u001b[0mvectorize\u001b[0m\u001b[0;34m(\u001b[0m\u001b[0mK_12_gam_integrator\u001b[0m\u001b[0;34m)\u001b[0m\u001b[0;34m(\u001b[0m\u001b[0mtau\u001b[0m\u001b[0;34m,\u001b[0m \u001b[0momega\u001b[0m\u001b[0;34m)\u001b[0m\u001b[0;34m\u001b[0m\u001b[0m\n\u001b[0m\u001b[1;32m     11\u001b[0m \u001b[0mtime_after\u001b[0m \u001b[0;34m=\u001b[0m \u001b[0mtime\u001b[0m\u001b[0;34m.\u001b[0m\u001b[0mtime\u001b[0m\u001b[0;34m(\u001b[0m\u001b[0;34m)\u001b[0m\u001b[0;34m\u001b[0m\u001b[0m\n\u001b[1;32m     12\u001b[0m \u001b[0mimproved_time\u001b[0m \u001b[0;34m=\u001b[0m \u001b[0mtime_after\u001b[0m \u001b[0;34m-\u001b[0m \u001b[0mtime_before\u001b[0m\u001b[0;34m\u001b[0m\u001b[0m\n",
      "\u001b[0;32m/usr/lib/python2.7/dist-packages/numpy/lib/function_base.pyc\u001b[0m in \u001b[0;36m__call__\u001b[0;34m(self, *args, **kwargs)\u001b[0m\n\u001b[1;32m   2205\u001b[0m             \u001b[0mvargs\u001b[0m\u001b[0;34m.\u001b[0m\u001b[0mextend\u001b[0m\u001b[0;34m(\u001b[0m\u001b[0;34m[\u001b[0m\u001b[0mkwargs\u001b[0m\u001b[0;34m[\u001b[0m\u001b[0m_n\u001b[0m\u001b[0;34m]\u001b[0m \u001b[0;32mfor\u001b[0m \u001b[0m_n\u001b[0m \u001b[0;32min\u001b[0m \u001b[0mnames\u001b[0m\u001b[0;34m]\u001b[0m\u001b[0;34m)\u001b[0m\u001b[0;34m\u001b[0m\u001b[0m\n\u001b[1;32m   2206\u001b[0m \u001b[0;34m\u001b[0m\u001b[0m\n\u001b[0;32m-> 2207\u001b[0;31m         \u001b[0;32mreturn\u001b[0m \u001b[0mself\u001b[0m\u001b[0;34m.\u001b[0m\u001b[0m_vectorize_call\u001b[0m\u001b[0;34m(\u001b[0m\u001b[0mfunc\u001b[0m\u001b[0;34m=\u001b[0m\u001b[0mfunc\u001b[0m\u001b[0;34m,\u001b[0m \u001b[0margs\u001b[0m\u001b[0;34m=\u001b[0m\u001b[0mvargs\u001b[0m\u001b[0;34m)\u001b[0m\u001b[0;34m\u001b[0m\u001b[0m\n\u001b[0m\u001b[1;32m   2208\u001b[0m \u001b[0;34m\u001b[0m\u001b[0m\n\u001b[1;32m   2209\u001b[0m     \u001b[0;32mdef\u001b[0m \u001b[0m_get_ufunc_and_otypes\u001b[0m\u001b[0;34m(\u001b[0m\u001b[0mself\u001b[0m\u001b[0;34m,\u001b[0m \u001b[0mfunc\u001b[0m\u001b[0;34m,\u001b[0m \u001b[0margs\u001b[0m\u001b[0;34m)\u001b[0m\u001b[0;34m:\u001b[0m\u001b[0;34m\u001b[0m\u001b[0m\n",
      "\u001b[0;32m/usr/lib/python2.7/dist-packages/numpy/lib/function_base.pyc\u001b[0m in \u001b[0;36m_vectorize_call\u001b[0;34m(self, func, args)\u001b[0m\n\u001b[1;32m   2274\u001b[0m                       for _a in args]\n\u001b[1;32m   2275\u001b[0m \u001b[0;34m\u001b[0m\u001b[0m\n\u001b[0;32m-> 2276\u001b[0;31m             \u001b[0moutputs\u001b[0m \u001b[0;34m=\u001b[0m \u001b[0mufunc\u001b[0m\u001b[0;34m(\u001b[0m\u001b[0;34m*\u001b[0m\u001b[0minputs\u001b[0m\u001b[0;34m)\u001b[0m\u001b[0;34m\u001b[0m\u001b[0m\n\u001b[0m\u001b[1;32m   2277\u001b[0m \u001b[0;34m\u001b[0m\u001b[0m\n\u001b[1;32m   2278\u001b[0m             \u001b[0;32mif\u001b[0m \u001b[0mufunc\u001b[0m\u001b[0;34m.\u001b[0m\u001b[0mnout\u001b[0m \u001b[0;34m==\u001b[0m \u001b[0;36m1\u001b[0m\u001b[0;34m:\u001b[0m\u001b[0;34m\u001b[0m\u001b[0m\n",
      "\u001b[0;32m<ipython-input-255-f51650122adb>\u001b[0m in \u001b[0;36mK_12_gam_integrator\u001b[0;34m(tau_prime, omega)\u001b[0m\n\u001b[1;32m     17\u001b[0m \u001b[0;34m\u001b[0m\u001b[0m\n\u001b[1;32m     18\u001b[0m     ans   = quad(lambda gamma: K_12_xi_integrateda(gamma, tau_prime, omega), \n\u001b[0;32m---> 19\u001b[0;31m                  gamma_max, n_locator(n_min, tau_prime, omega))[0]\n\u001b[0m\u001b[1;32m     20\u001b[0m \u001b[0;34m\u001b[0m\u001b[0m\n\u001b[1;32m     21\u001b[0m     \u001b[0;32mif\u001b[0m\u001b[0;34m(\u001b[0m\u001b[0mnp\u001b[0m\u001b[0;34m.\u001b[0m\u001b[0misnan\u001b[0m\u001b[0;34m(\u001b[0m\u001b[0mans\u001b[0m\u001b[0;34m)\u001b[0m\u001b[0;34m)\u001b[0m\u001b[0;34m:\u001b[0m\u001b[0;34m\u001b[0m\u001b[0m\n",
      "\u001b[0;32m/usr/local/lib/python2.7/dist-packages/scipy/integrate/quadpack.pyc\u001b[0m in \u001b[0;36mquad\u001b[0;34m(func, a, b, args, full_output, epsabs, epsrel, limit, points, weight, wvar, wopts, maxp1, limlst)\u001b[0m\n\u001b[1;32m    313\u001b[0m     \u001b[0;32mif\u001b[0m \u001b[0;34m(\u001b[0m\u001b[0mweight\u001b[0m \u001b[0;32mis\u001b[0m \u001b[0mNone\u001b[0m\u001b[0;34m)\u001b[0m\u001b[0;34m:\u001b[0m\u001b[0;34m\u001b[0m\u001b[0m\n\u001b[1;32m    314\u001b[0m         retval = _quad(func, a, b, args, full_output, epsabs, epsrel, limit,\n\u001b[0;32m--> 315\u001b[0;31m                        points)\n\u001b[0m\u001b[1;32m    316\u001b[0m     \u001b[0;32melse\u001b[0m\u001b[0;34m:\u001b[0m\u001b[0;34m\u001b[0m\u001b[0m\n\u001b[1;32m    317\u001b[0m         retval = _quad_weight(func, a, b, args, full_output, epsabs, epsrel,\n",
      "\u001b[0;32m/usr/local/lib/python2.7/dist-packages/scipy/integrate/quadpack.pyc\u001b[0m in \u001b[0;36m_quad\u001b[0;34m(func, a, b, args, full_output, epsabs, epsrel, limit, points)\u001b[0m\n\u001b[1;32m    378\u001b[0m     \u001b[0;32mif\u001b[0m \u001b[0mpoints\u001b[0m \u001b[0;32mis\u001b[0m \u001b[0mNone\u001b[0m\u001b[0;34m:\u001b[0m\u001b[0;34m\u001b[0m\u001b[0m\n\u001b[1;32m    379\u001b[0m         \u001b[0;32mif\u001b[0m \u001b[0minfbounds\u001b[0m \u001b[0;34m==\u001b[0m \u001b[0;36m0\u001b[0m\u001b[0;34m:\u001b[0m\u001b[0;34m\u001b[0m\u001b[0m\n\u001b[0;32m--> 380\u001b[0;31m             \u001b[0;32mreturn\u001b[0m \u001b[0m_quadpack\u001b[0m\u001b[0;34m.\u001b[0m\u001b[0m_qagse\u001b[0m\u001b[0;34m(\u001b[0m\u001b[0mfunc\u001b[0m\u001b[0;34m,\u001b[0m\u001b[0ma\u001b[0m\u001b[0;34m,\u001b[0m\u001b[0mb\u001b[0m\u001b[0;34m,\u001b[0m\u001b[0margs\u001b[0m\u001b[0;34m,\u001b[0m\u001b[0mfull_output\u001b[0m\u001b[0;34m,\u001b[0m\u001b[0mepsabs\u001b[0m\u001b[0;34m,\u001b[0m\u001b[0mepsrel\u001b[0m\u001b[0;34m,\u001b[0m\u001b[0mlimit\u001b[0m\u001b[0;34m)\u001b[0m\u001b[0;34m\u001b[0m\u001b[0m\n\u001b[0m\u001b[1;32m    381\u001b[0m         \u001b[0;32melse\u001b[0m\u001b[0;34m:\u001b[0m\u001b[0;34m\u001b[0m\u001b[0m\n\u001b[1;32m    382\u001b[0m             \u001b[0;32mreturn\u001b[0m \u001b[0m_quadpack\u001b[0m\u001b[0;34m.\u001b[0m\u001b[0m_qagie\u001b[0m\u001b[0;34m(\u001b[0m\u001b[0mfunc\u001b[0m\u001b[0;34m,\u001b[0m\u001b[0mbound\u001b[0m\u001b[0;34m,\u001b[0m\u001b[0minfbounds\u001b[0m\u001b[0;34m,\u001b[0m\u001b[0margs\u001b[0m\u001b[0;34m,\u001b[0m\u001b[0mfull_output\u001b[0m\u001b[0;34m,\u001b[0m\u001b[0mepsabs\u001b[0m\u001b[0;34m,\u001b[0m\u001b[0mepsrel\u001b[0m\u001b[0;34m,\u001b[0m\u001b[0mlimit\u001b[0m\u001b[0;34m)\u001b[0m\u001b[0;34m\u001b[0m\u001b[0m\n",
      "\u001b[0;32m<ipython-input-255-f51650122adb>\u001b[0m in \u001b[0;36m<lambda>\u001b[0;34m(gamma)\u001b[0m\n\u001b[1;32m     16\u001b[0m \u001b[0;31m#    print 'n_max', n_max, n_locator(n_max, tau_prime, omega)\u001b[0m\u001b[0;34m\u001b[0m\u001b[0;34m\u001b[0m\u001b[0m\n\u001b[1;32m     17\u001b[0m \u001b[0;34m\u001b[0m\u001b[0m\n\u001b[0;32m---> 18\u001b[0;31m     ans   = quad(lambda gamma: K_12_xi_integrateda(gamma, tau_prime, omega), \n\u001b[0m\u001b[1;32m     19\u001b[0m                  gamma_max, n_locator(n_min, tau_prime, omega))[0]\n\u001b[1;32m     20\u001b[0m \u001b[0;34m\u001b[0m\u001b[0m\n",
      "\u001b[0;32m<ipython-input-254-b12aa5827662>\u001b[0m in \u001b[0;36mK_12_xi_integrateda\u001b[0;34m(gamma, tau_prime, omega)\u001b[0m\n\u001b[1;32m     10\u001b[0m                 (epsilon * omega_c / omega) * tau_prime / (2. * gamma))\n\u001b[1;32m     11\u001b[0m \u001b[0;34m\u001b[0m\u001b[0m\n\u001b[0;32m---> 12\u001b[0;31m     \u001b[0mgamma_term\u001b[0m \u001b[0;34m=\u001b[0m \u001b[0mbeta\u001b[0m\u001b[0;34m**\u001b[0m\u001b[0;36m2.\u001b[0m \u001b[0;34m*\u001b[0m \u001b[0mnp\u001b[0m\u001b[0;34m.\u001b[0m\u001b[0mexp\u001b[0m\u001b[0;34m(\u001b[0m\u001b[0;34m-\u001b[0m\u001b[0mgamma\u001b[0m\u001b[0;34m/\u001b[0m\u001b[0mtheta_e\u001b[0m\u001b[0;34m)\u001b[0m \u001b[0;34m*\u001b[0m \u001b[0mnp\u001b[0m\u001b[0;34m.\u001b[0m\u001b[0msin\u001b[0m\u001b[0;34m(\u001b[0m\u001b[0;34m(\u001b[0m\u001b[0mepsilon\u001b[0m \u001b[0;34m*\u001b[0m \u001b[0momega_c\u001b[0m \u001b[0;34m/\u001b[0m \u001b[0momega\u001b[0m\u001b[0;34m)\u001b[0m \u001b[0;34m*\u001b[0m \u001b[0mtau_prime\u001b[0m \u001b[0;34m/\u001b[0m \u001b[0mgamma\u001b[0m\u001b[0;34m)\u001b[0m\u001b[0;34m\u001b[0m\u001b[0m\n\u001b[0m\u001b[1;32m     13\u001b[0m     \u001b[0mtau_term\u001b[0m   \u001b[0;34m=\u001b[0m \u001b[0mnp\u001b[0m\u001b[0;34m.\u001b[0m\u001b[0mexp\u001b[0m\u001b[0;34m(\u001b[0m\u001b[0;36m1j\u001b[0m \u001b[0;34m*\u001b[0m \u001b[0mtau_prime\u001b[0m\u001b[0;34m)\u001b[0m\u001b[0;34m\u001b[0m\u001b[0m\n\u001b[1;32m     14\u001b[0m \u001b[0;34m\u001b[0m\u001b[0m\n",
      "\u001b[0;31mKeyboardInterrupt\u001b[0m: "
     ]
    }
   ],
   "source": [
    "def K_12_normal_integrator(tau_prime, omega):\n",
    "    ans = quad(lambda gamma: K_12_xi_integrateda(gamma, tau_prime, omega), 1., 100.)[0]\n",
    "    return ans\n",
    "\n",
    "omega = 1. * omega_c\n",
    "tau = np.linspace(400., 430., 1000)\n",
    "#gamma = np.linspace(1., 10., 1000)\n",
    "\n",
    "time_before = time.time()\n",
    "improved = np.vectorize(K_12_gam_integrator)(tau, omega)\n",
    "time_after = time.time()\n",
    "improved_time = time_after - time_before\n",
    "\n",
    "time_before = time.time()\n",
    "original = np.vectorize(K_12_normal_integrator)(tau, omega)\n",
    "time_after = time.time()\n",
    "original_time = time_after - time_before\n",
    "\n",
    "pl.plot(tau, improved)\n",
    "pl.plot(tau, original)\n",
    "pl.show()\n",
    "pl.plot(tau, (improved+1.)/(original+1.) - 1.)\n",
    "\n",
    "print improved_time, original_time"
   ]
  },
  {
   "cell_type": "code",
   "execution_count": 259,
   "metadata": {
    "collapsed": false
   },
   "outputs": [
    {
     "data": {
      "text/plain": [
       "[<matplotlib.lines.Line2D at 0x7fc7e2e38950>]"
      ]
     },
     "execution_count": 259,
     "metadata": {},
     "output_type": "execute_result"
    },
    {
     "data": {
      "image/png": "[encoded data removed]",
      "text/plain": [
       "<matplotlib.figure.Figure at 0x7fc7e2e38a50>"
      ]
     },
     "metadata": {},
     "output_type": "display_data"
    }
   ],
   "source": [
    "def I_2_analytic(alpha, delta):\n",
    "    A     = np.sqrt(alpha**2. + delta**2.)\n",
    "    plus  = np.sqrt(A + alpha)\n",
    "    minus = np.sqrt(A - alpha)\n",
    "    num   = alpha * delta**8. * (3. * A * np.cos(A) + (-3. + alpha**2. + delta**2.) * np.sin(A))\n",
    "    denom = A**5. * minus**7. * plus**7.\n",
    "    ans   = -num / denom\n",
    "    return ans\n",
    "\n",
    "def K_32_xi_integrateda(gamma, tau_prime, omega):\n",
    "    prefactor = 1.\n",
    "    beta       = np.sqrt(1. - 1./gamma**2.)\n",
    "    alpha      = beta * np.cos(theta) * tau_prime\n",
    "    delta      = 2. * omega/(epsilon * omega_c) * np.sin(theta) * gamma * beta * np.sin(\n",
    "                (epsilon * omega_c / omega) * tau_prime / (2. * gamma))\n",
    "    gamma_term = beta**2. * np.exp(-gamma/theta_e) * np.sin((epsilon * omega_c / omega) * tau_prime / (2. * gamma))\n",
    "    tau_term   = np.exp(1j * tau_prime)\n",
    "    \n",
    "    if(alpha == 0 or delta == 0):\n",
    "        return 0.\n",
    "    \n",
    "#    print alpha, delta\n",
    "    xi_term    = -2j * I_2_analytic(alpha, delta)\n",
    "    ans        = prefactor * gamma_term * tau_term * xi_term\n",
    "    \n",
    "    if(delta < 0):\n",
    "        #print 'HERE'\n",
    "        ans = ans * -1.\n",
    "    \n",
    "    return ans * gamma**2. * beta\n",
    "\n",
    "def K_32_xi_integrated(gamma, tau_prime, omega):\n",
    "    real_part = quad(lambda cos_xi: K_32_integrand(gamma, cos_xi, tau_prime, omega).real, -1., 1.)\n",
    "    imag_part = quad(lambda cos_xi: K_32_integrand(gamma, cos_xi, tau_prime, omega).imag, -1., 1.)\n",
    "    ans       = real_part[0] + 1j * imag_part[0]\n",
    "    return ans\n",
    "\n",
    "gamma = np.linspace(1., 10., 100)\n",
    "tau   = 100\n",
    "omega = omega_c\n",
    "\n",
    "pl.plot(gamma, np.vectorize(K_12_xi_integrateda)(gamma, tau, omega).real)\n",
    "pl.plot(gamma, np.vectorize(K_12_xi_integrated)(gamma, tau, omega).real)"
   ]
  },
  {
   "cell_type": "code",
   "execution_count": 260,
   "metadata": {
    "collapsed": false
   },
   "outputs": [],
   "source": [
    "def K_32_p_integrated(tau_prime, omega):\n",
    "    real_part = dblquad(lambda gamma, cos_xi: K_32_integrand(gamma, cos_xi, tau_prime, omega).real, \n",
    "                       -1, 1, lambda x: 1., lambda x: np.inf)\n",
    "    ans = real_part[0]\n",
    "    return ans\n",
    "\n",
    "def K_32_p_integrateda(tau_prime, omega):\n",
    "    real_part = quad(lambda gamma: K_32_xi_integrateda(gamma, tau_prime, omega).real, 1., np.inf)\n",
    "    ans       = real_part[0]\n",
    "    return ans\n",
    "\n",
    "def K_12_p_integrateda(tau_prime, omega):\n",
    "    real_part = quad(lambda gamma: K_12_xi_integrateda(gamma, tau_prime, omega).real, 1., np.inf)\n",
    "    ans       = real_part[0]\n",
    "    return ans"
   ]
  },
  {
   "cell_type": "code",
   "execution_count": 261,
   "metadata": {
    "collapsed": false,
    "scrolled": false
   },
   "outputs": [
    {
     "name": "stdout",
     "output_type": "stream",
     "text": [
      "time elapsed:  0.818088054657\n",
      "-6.50993548029e-10\n"
     ]
    }
   ],
   "source": [
    "time_before = time.time()\n",
    "K_12 = fixed_quad(lambda tau: np.vectorize(K_12_p_integrateda)(tau, omega_c), 0., 60., n=55)[0]\n",
    "K_32 = fixed_quad(lambda tau: np.vectorize(K_32_p_integrateda)(tau, omega_c), 0., 60., n=55)[0]\n",
    "time_after  = time.time()\n",
    "print 'time elapsed: ', time_after - time_before\n",
    "\n",
    "ans = K_12 * K_12_prefactor(omega_c) * np.cos(theta) + K_32 * K_32_prefactor(omega_c) * np.sin(theta)\n",
    "print 1./c * ans * omega_c"
   ]
  },
  {
   "cell_type": "code",
   "execution_count": null,
   "metadata": {
    "collapsed": false
   },
   "outputs": [],
   "source": []
  },
  {
   "cell_type": "code",
   "execution_count": null,
   "metadata": {
    "collapsed": true
   },
   "outputs": [],
   "source": []
  }
 ],
 "metadata": {
  "kernelspec": {
   "display_name": "Python 2",
   "language": "python",
   "name": "python2"
  },
  "language_info": {
   "codemirror_mode": {
    "name": "ipython",
    "version": 2
   },
   "file_extension": ".py",
   "mimetype": "text/x-python",
   "name": "python",
   "nbconvert_exporter": "python",
   "pygments_lexer": "ipython2",
   "version": "2.7.12"
  }
 },
 "nbformat": 4,
 "nbformat_minor": 2
}
