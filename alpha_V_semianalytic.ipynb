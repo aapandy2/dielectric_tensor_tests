{
 "cells": [
  {
   "cell_type": "code",
   "execution_count": 1,
   "metadata": {
    "collapsed": true
   },
   "outputs": [],
   "source": [
    "%matplotlib inline\n",
    "import numpy as np\n",
    "import pylab as pl\n",
    "import time\n",
    "import scipy.special as special\n",
    "from scipy.integrate import quad, dblquad, fixed_quad\n",
    "\n",
    "# Set plot parameters to make beautiful plots\n",
    "pl.rcParams['figure.figsize']  = 12, 7.5\n",
    "pl.rcParams['lines.linewidth'] = 1.5\n",
    "pl.rcParams['font.family']     = 'serif'\n",
    "pl.rcParams['font.weight']     = 'bold'\n",
    "pl.rcParams['font.size']       = 20  \n",
    "pl.rcParams['font.sans-serif'] = 'serif'\n",
    "pl.rcParams['text.usetex']     = True\n",
    "pl.rcParams['axes.linewidth']  = 1.5\n",
    "pl.rcParams['axes.titlesize']  = 'medium'\n",
    "pl.rcParams['axes.labelsize']  = 'large'\n",
    "\n",
    "pl.rcParams['xtick.major.size'] = 8     \n",
    "pl.rcParams['xtick.minor.size'] = 4     \n",
    "pl.rcParams['xtick.major.pad']  = 8     \n",
    "pl.rcParams['xtick.minor.pad']  = 8     \n",
    "pl.rcParams['xtick.color']      = 'k'     \n",
    "pl.rcParams['xtick.labelsize']  = 'large'\n",
    "pl.rcParams['xtick.direction']  = 'in'    \n",
    "\n",
    "pl.rcParams['ytick.major.size'] = 8     \n",
    "pl.rcParams['ytick.minor.size'] = 4     \n",
    "pl.rcParams['ytick.major.pad']  = 8     \n",
    "pl.rcParams['ytick.minor.pad']  = 8     \n",
    "pl.rcParams['ytick.color']      = 'k'     \n",
    "pl.rcParams['ytick.labelsize']  = 'large'\n",
    "pl.rcParams['ytick.direction']  = 'in'"
   ]
  },
  {
   "cell_type": "code",
   "execution_count": 3,
   "metadata": {
    "collapsed": false
   },
   "outputs": [],
   "source": [
    "# EVERYTHING IS 1 units\n",
    "\n",
    "#constants\n",
    "epsilon0  = 1./(4. * np.pi)\n",
    "e = 4.80320680e-10\n",
    "m = 9.1093826e-28\n",
    "c = 2.99792458e10\n",
    "\n",
    "epsilon  = -1.    #sign of electron charge\n",
    "\n",
    "#parameters\n",
    "B       = 1.         #background B strength\n",
    "n_e     = 1.         #electron number density cm^-3\n",
    "theta_e = 0.5         #dimensionless electron temp\n",
    "theta   = np.pi/3.    #observer angle\n",
    "\n",
    "#derived quantities\n",
    "omega_p = np.sqrt(n_e * e**2. / (m * epsilon0))     # plasma frequency    (=1 in these units)\n",
    "omega_c = e * B / (m * c)                           # cyclotron frequency (=1 in these units)"
   ]
  },
  {
   "cell_type": "code",
   "execution_count": 184,
   "metadata": {
    "collapsed": false
   },
   "outputs": [],
   "source": [
    "def K_12_prefactor(omega):\n",
    "    prefactor = - 1. * omega_p**2. / (omega * omega) * 1./(4. * theta_e**2. * special.kn(2, 1./theta_e))\n",
    "    return prefactor\n",
    "\n",
    "def K_12_integrand(gamma, cos_xi, tau_prime, omega):    \n",
    "    prefactor  = 1j\n",
    "    beta       = np.sqrt(1. - 1./gamma**2.)\n",
    "    sin_xi     = np.sqrt(1. - cos_xi**2.)\n",
    "    p_perp_bar = gamma * beta * sin_xi\n",
    "    p_z_bar    = gamma * beta * cos_xi\n",
    "    beta_perp  = p_perp_bar / gamma\n",
    "    beta_z     = p_z_bar    / gamma\n",
    "    alpha      = beta * np.cos(theta) * tau_prime\n",
    "    delta      = 2. * omega/(epsilon * omega_c) * np.sin(theta) * gamma * beta * np.sin(\n",
    "                (epsilon * omega_c / omega) * tau_prime / (2. * gamma))\n",
    "    \n",
    "    gamma_term = beta**2. * np.exp(-gamma/theta_e) * np.sin((epsilon * omega_c / omega) * tau_prime / gamma)\n",
    "    tau_term   = np.exp(1j * tau_prime)\n",
    "    xi_term    = sin_xi**2. * np.exp(-1j * alpha * cos_xi) * special.j0(delta * sin_xi)\n",
    "    ans        = prefactor * gamma_term * xi_term * tau_term\n",
    "    return ans * gamma**2. * beta \n",
    "\n",
    "def K_32_prefactor(omega):\n",
    "    prefactor = omega_p**2. / (omega * omega) * 1./(2. * theta_e**2. * special.kn(2, 1./theta_e))\n",
    "    return prefactor\n",
    "\n",
    "def K_32_integrand(gamma, cos_xi, tau_prime, omega):\n",
    "    prefactor = 1.\n",
    "    beta       = np.sqrt(1. - 1./gamma**2.)\n",
    "    sin_xi     = np.sqrt(1. - cos_xi**2.)\n",
    "    p_perp_bar = gamma * beta * sin_xi\n",
    "    p_z_bar    = gamma * beta * cos_xi\n",
    "    beta_perp = p_perp_bar / gamma\n",
    "    beta_z    = p_z_bar    / gamma\n",
    "    alpha      = beta * np.cos(theta) * tau_prime\n",
    "    delta      = 2. * omega/(epsilon * omega_c) * np.sin(theta) * gamma * beta * np.sin(\n",
    "                (epsilon * omega_c / omega) * tau_prime / (2. * gamma))\n",
    "    \n",
    "    gamma_term = beta**2. * np.exp(-gamma/theta_e) * np.sin((epsilon * omega_c / omega) * tau_prime / (2. * gamma))\n",
    "    tau_term   = np.exp(1j * tau_prime)\n",
    "    xi_term    = special.jn(1, delta * sin_xi) * (cos_xi * sin_xi) * np.exp(-1j * alpha * cos_xi) \n",
    "    ans        = prefactor * gamma_term * tau_term * xi_term\n",
    "    return ans * gamma**2. * beta"
   ]
  },
  {
   "cell_type": "code",
   "execution_count": 200,
   "metadata": {
    "collapsed": false
   },
   "outputs": [
    {
     "name": "stdout",
     "output_type": "stream",
     "text": [
      "-0.0187707055538\n",
      "-0.0187707055538\n"
     ]
    }
   ],
   "source": [
    "gamma     = 1.5\n",
    "tau_prime = 1.\n",
    "omega     = omega_c\n",
    "\n",
    "def K_12_xi_integrateda(gamma, tau_prime, omega):    \n",
    "    prefactor  = 1j\n",
    "    beta       = np.sqrt(1. - 1./gamma**2.)\n",
    "    alpha      = beta * np.cos(theta) * tau_prime\n",
    "    delta      = 2. * omega/(epsilon * omega_c) * np.sin(theta) * gamma * beta * np.sin(\n",
    "                (epsilon * omega_c / omega) * tau_prime / (2. * gamma))\n",
    "    \n",
    "    gamma_term = beta**2. * np.exp(-gamma/theta_e) * np.sin((epsilon * omega_c / omega) * tau_prime / gamma)\n",
    "    tau_term   = np.exp(1j * tau_prime)\n",
    "    \n",
    "    if(alpha == 0 or delta == 0):\n",
    "        return 0.\n",
    "    \n",
    "    xi_term    = I_1_analytic(alpha, delta)\n",
    "    ans        = prefactor * gamma_term * xi_term * tau_term\n",
    "    return ans * gamma**2. * beta \n",
    "\n",
    "def I_1_integrand(x, alpha, delta):\n",
    "    ans = (1. - x**2.) * np.cos(alpha * x) * special.j0(delta * np.sqrt(1. - x**2.))\n",
    "    return ans\n",
    "\n",
    "def I_1_analytic(alpha, delta):\n",
    "    A     = np.sqrt(alpha**2. + delta**2.)\n",
    "    minus = np.sqrt(A - alpha)\n",
    "    plus  = np.sqrt(A + alpha)\n",
    "    ds    = -np.sign(delta)\n",
    "    outer = 2. * delta**6. / (alpha**3. * A**5. * minus**7. * plus**7.)\n",
    "    inner = ((ds*2. * alpha * A**5. * (delta + ds*minus * plus)) * np.cos(alpha)\n",
    "             + alpha**3. * delta * ds*(2. * alpha**2. - delta**2.) * A * np.cos(A)\n",
    "             + ds*2. * alpha**4. * delta * A * np.sin(alpha)\n",
    "             + ds*4. * alpha**2. * delta**3. * A * np.sin(alpha)\n",
    "             + ds*2. * delta**5. * A * np.sin(alpha)\n",
    "             + 2. * alpha**4. * A * minus * plus * np.sin(alpha)\n",
    "             + 4. * alpha**2. * delta**2. * A * minus * plus * np.sin(alpha)\n",
    "             + 2. * delta**4. * A * minus * plus * np.sin(alpha)\n",
    "             - ds*alpha**3. * delta * (2. * alpha**2. + (-1. + alpha**2.) * delta**2. + delta**4.) * np.sin(A))\n",
    "    ans   = outer * inner\n",
    "    return ans\n",
    "\n",
    "def K_12_xi_integrated(gamma, tau_prime, omega):\n",
    "    real_part = quad(lambda cos_xi: K_12_integrand(gamma, cos_xi, tau_prime, omega).real, -1., 1.)\n",
    "    imag_part = quad(lambda cos_xi: K_12_integrand(gamma, cos_xi, tau_prime, omega).imag, -1., 1.)\n",
    "    ans       = real_part[0] + 1j * imag_part[0]\n",
    "    return ans\n",
    "\n",
    "print quad(lambda cos_xi: K_12_integrand(gamma, cos_xi, tau_prime, omega).imag, -1., 1.)[0]\n",
    "print K_12_xi_integrateda(gamma, tau_prime, omega).imag"
   ]
  },
  {
   "cell_type": "code",
   "execution_count": 201,
   "metadata": {
    "collapsed": false
   },
   "outputs": [
    {
     "name": "stdout",
     "output_type": "stream",
     "text": [
      "(-0.000386807872678+0.000248366478832j)\n",
      "-------------------------------------------------\n",
      "(-0.000386807872678+0.000248366478832j)\n"
     ]
    }
   ],
   "source": [
    "def K_32_xi_term(gamma, cos_xi, tau_prime, omega):\n",
    "    beta       = np.sqrt(1. - 1./gamma**2.)\n",
    "    sin_xi     = np.sqrt(1. - cos_xi**2.)\n",
    "    alpha      = beta * np.cos(theta) * tau_prime\n",
    "    delta      = 2. * omega/(epsilon * omega_c) * np.sin(theta) * gamma * beta * np.sin(\n",
    "                (epsilon * omega_c / omega) * tau_prime / (2. * gamma))\n",
    "    #print alpha, delta\n",
    "    xi_term    = cos_xi * sin_xi * np.exp(-1j * alpha * cos_xi) * special.jn(1, delta * sin_xi)\n",
    "    return xi_term\n",
    "\n",
    "def I_2_integrand(x, alpha, delta):\n",
    "    ans = x * np.sqrt(1. - x**2.) * np.sin(1 * alpha * x) * special.jn(1, delta * np.sqrt(1. - x**2.))\n",
    "    return ans\n",
    "\n",
    "def I_2_analytic(alpha, delta):\n",
    "    A     = np.sqrt(alpha**2. + delta**2.)\n",
    "    plus  = np.sqrt(A + alpha)\n",
    "    minus = np.sqrt(A - alpha)\n",
    "    num   = alpha * delta**8. * (3. * A * np.cos(A) + (-3. + alpha**2. + delta**2.) * np.sin(A))\n",
    "    denom = A**5. * minus**7. * plus**7.\n",
    "    ans   = -num / denom\n",
    "    return ans\n",
    "\n",
    "def K_32_xi_integrand_a(gamma, cos_xi, tau_prime, omega):\n",
    "    prefactor = 1.\n",
    "    beta       = np.sqrt(1. - 1./gamma**2.)\n",
    "    sin_xi     = np.sqrt(1. - cos_xi**2.)\n",
    "    p_perp_bar = gamma * beta * sin_xi\n",
    "    p_z_bar    = gamma * beta * cos_xi\n",
    "    beta_perp = p_perp_bar / gamma\n",
    "    beta_z    = p_z_bar    / gamma\n",
    "    alpha      = beta * np.cos(theta) * tau_prime\n",
    "    delta      = 2. * omega/(epsilon * omega_c) * np.sin(theta) * gamma * beta * np.sin(\n",
    "                (epsilon * omega_c / omega) * tau_prime / (2. * gamma))\n",
    "    \n",
    "    gamma_term = beta**2. * np.exp(-gamma/theta_e) * np.sin((epsilon * omega_c / omega) * tau_prime / (2. * gamma))\n",
    "    tau_term   = np.exp(1j * tau_prime)\n",
    "    xi_term    = special.jn(1, delta * sin_xi) * (cos_xi * sin_xi) * np.exp(-1j * alpha * cos_xi)\n",
    "    #xi_term    = I_2_integrand(cos_xi, alpha, delta) * -1j\n",
    "    ans        = prefactor * gamma_term * tau_term * xi_term\n",
    "    return ans * gamma**2. * beta\n",
    "\n",
    "#print quad(lambda cos_xi: K_12_integrand(gamma, cos_xi, tau_prime, omega).real, -1., 1.)\n",
    "#print quad(lambda cos_xi: K_12_xi_term(gamma, cos_xi, tau_prime, omega).real, -1., 1.)\n",
    "\n",
    "print (quad(lambda cos_xi: K_32_xi_integrand_a(gamma, cos_xi, tau_prime, omega).real, -1., 1.)[0]+ \n",
    "       quad(lambda cos_xi: K_32_xi_integrand_a(gamma, cos_xi, tau_prime, omega).imag, -1., 1.)[0]*1j)\n",
    "print '-------------------------------------------------'\n",
    "#print '(-0.0003868078726778312, 0.0002483664788317022)'\n",
    "print K_32_xi_integrated(gamma, tau_prime, omega)\n",
    "\n",
    "#print quad(lambda cos_xi: K_32_xi_integrand_a(gamma, cos_xi, tau_prime, omega).imag, -1., 1.)\n",
    "\n",
    "#print quad(lambda cos_xi: K_32_xi_term(gamma, cos_xi, tau_prime, omega).imag, -1., 1.)[0]\n",
    "#print quad(lambda x: -I_2_integrand(x, 0.37267799625, 0.633609805829), 0., 1.)[0] * 2.\n",
    "#print I_2_analytic(0.37267799625, 0.633609805829) * -2."
   ]
  },
  {
   "cell_type": "code",
   "execution_count": 202,
   "metadata": {
    "collapsed": false
   },
   "outputs": [
    {
     "data": {
      "text/plain": [
       "[<matplotlib.lines.Line2D at 0x7f083e35ef50>]"
      ]
     },
     "execution_count": 202,
     "metadata": {},
     "output_type": "execute_result"
    },
    {
     "data": {
      "image/png": "[encoded data removed]",
      "text/plain": [
       "<matplotlib.figure.Figure at 0x7f083e35ef10>"
      ]
     },
     "metadata": {},
     "output_type": "display_data"
    }
   ],
   "source": [
    "def K_32_xi_integrateda(gamma, tau_prime, omega):\n",
    "    prefactor = 1.\n",
    "    beta       = np.sqrt(1. - 1./gamma**2.)\n",
    "    alpha      = beta * np.cos(theta) * tau_prime\n",
    "    delta      = 2. * omega/(epsilon * omega_c) * np.sin(theta) * gamma * beta * np.sin(\n",
    "                (epsilon * omega_c / omega) * tau_prime / (2. * gamma))\n",
    "    gamma_term = beta**2. * np.exp(-gamma/theta_e) * np.sin((epsilon * omega_c / omega) * tau_prime / (2. * gamma))\n",
    "    tau_term   = np.exp(1j * tau_prime)\n",
    "    \n",
    "    if(alpha == 0 or delta == 0):\n",
    "        return 0.\n",
    "    \n",
    "#    print alpha, delta\n",
    "    xi_term    = -2j * I_2_analytic(alpha, delta)\n",
    "    ans        = prefactor * gamma_term * tau_term * xi_term\n",
    "    \n",
    "    if(delta < 0):\n",
    "        #print 'HERE'\n",
    "        ans = ans * -1.\n",
    "    \n",
    "    return ans * gamma**2. * beta\n",
    "\n",
    "def K_32_xi_integrated(gamma, tau_prime, omega):\n",
    "    real_part = quad(lambda cos_xi: K_32_integrand(gamma, cos_xi, tau_prime, omega).real, -1., 1.)\n",
    "    imag_part = quad(lambda cos_xi: K_32_integrand(gamma, cos_xi, tau_prime, omega).imag, -1., 1.)\n",
    "    ans       = real_part[0] + 1j * imag_part[0]\n",
    "    return ans\n",
    "\n",
    "gamma = np.linspace(1., 10., 100)\n",
    "tau   = 100\n",
    "omega = omega_c\n",
    "\n",
    "pl.plot(gamma, np.vectorize(K_12_xi_integrateda)(gamma, tau, omega).real)\n",
    "pl.plot (gamma, np.vectorize(K_12_xi_integrated)(gamma, tau, omega).real)"
   ]
  },
  {
   "cell_type": "code",
   "execution_count": 205,
   "metadata": {
    "collapsed": false
   },
   "outputs": [],
   "source": [
    "def K_32_p_integrated(tau_prime, omega):\n",
    "    real_part = dblquad(lambda gamma, cos_xi: K_32_integrand(gamma, cos_xi, tau_prime, omega).real, \n",
    "                       -1, 1, lambda x: 1., lambda x: np.inf)\n",
    "    ans = real_part[0]\n",
    "    return ans\n",
    "\n",
    "def K_32_p_integrateda(tau_prime, omega):\n",
    "    real_part = quad(lambda gamma: K_32_xi_integrateda(gamma, tau_prime, omega).real, 1., np.inf)\n",
    "    ans       = real_part[0]\n",
    "    return ans\n",
    "\n",
    "def K_12_p_integrateda(tau_prime, omega):\n",
    "    real_part = quad(lambda gamma: K_12_xi_integrateda(gamma, tau_prime, omega).real, 1., np.inf)\n",
    "    ans       = real_part[0]\n",
    "    return ans"
   ]
  },
  {
   "cell_type": "code",
   "execution_count": 208,
   "metadata": {
    "collapsed": false,
    "scrolled": false
   },
   "outputs": [
    {
     "name": "stdout",
     "output_type": "stream",
     "text": [
      "time elapsed:  0.693619012833\n",
      "-6.50993548029e-10\n"
     ]
    }
   ],
   "source": [
    "time_before = time.time()\n",
    "K_12 = fixed_quad(lambda tau: np.vectorize(K_12_p_integrateda)(tau, omega_c), 0., 60., n=55)[0]\n",
    "K_32 = fixed_quad(lambda tau: np.vectorize(K_32_p_integrateda)(tau, omega_c), 0., 60., n=55)[0]\n",
    "time_after  = time.time()\n",
    "print 'time elapsed: ', time_after - time_before\n",
    "\n",
    "ans = K_12 * K_12_prefactor(omega_c) * np.cos(theta) + K_32 * K_32_prefactor(omega_c) * np.sin(theta)\n",
    "print 1./c * ans * omega_c"
   ]
  },
  {
   "cell_type": "code",
   "execution_count": null,
   "metadata": {
    "collapsed": false
   },
   "outputs": [],
   "source": []
  },
  {
   "cell_type": "code",
   "execution_count": null,
   "metadata": {
    "collapsed": true
   },
   "outputs": [],
   "source": []
  }
 ],
 "metadata": {
  "kernelspec": {
   "display_name": "Python 2",
   "language": "python",
   "name": "python2"
  },
  "language_info": {
   "codemirror_mode": {
    "name": "ipython",
    "version": 2
   },
   "file_extension": ".py",
   "mimetype": "text/x-python",
   "name": "python",
   "nbconvert_exporter": "python",
   "pygments_lexer": "ipython2",
   "version": "2.7.12"
  }
 },
 "nbformat": 4,
 "nbformat_minor": 2
}
