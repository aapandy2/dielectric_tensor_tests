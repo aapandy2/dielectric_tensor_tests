{
 "cells": [
  {
   "cell_type": "code",
   "execution_count": 1,
   "metadata": {
    "collapsed": true
   },
   "outputs": [],
   "source": [
    "%matplotlib inline\n",
    "import numpy as np\n",
    "import pylab as pl\n",
    "import scipy.special as special\n",
    "from scipy.integrate import quad\n",
    "\n",
    "# Set plot parameters to make beautiful plots\n",
    "pl.rcParams['figure.figsize']  = 12, 7.5\n",
    "pl.rcParams['lines.linewidth'] = 1.5\n",
    "pl.rcParams['font.family']     = 'serif'\n",
    "pl.rcParams['font.weight']     = 'bold'\n",
    "pl.rcParams['font.size']       = 20  \n",
    "pl.rcParams['font.sans-serif'] = 'serif'\n",
    "pl.rcParams['text.usetex']     = True\n",
    "pl.rcParams['axes.linewidth']  = 1.5\n",
    "pl.rcParams['axes.titlesize']  = 'medium'\n",
    "pl.rcParams['axes.labelsize']  = 'large'\n",
    "\n",
    "pl.rcParams['xtick.major.size'] = 8     \n",
    "pl.rcParams['xtick.minor.size'] = 4     \n",
    "pl.rcParams['xtick.major.pad']  = 8     \n",
    "pl.rcParams['xtick.minor.pad']  = 8     \n",
    "pl.rcParams['xtick.color']      = 'k'     \n",
    "pl.rcParams['xtick.labelsize']  = 'large'\n",
    "pl.rcParams['xtick.direction']  = 'in'    \n",
    "\n",
    "pl.rcParams['ytick.major.size'] = 8     \n",
    "pl.rcParams['ytick.minor.size'] = 4     \n",
    "pl.rcParams['ytick.major.pad']  = 8     \n",
    "pl.rcParams['ytick.minor.pad']  = 8     \n",
    "pl.rcParams['ytick.color']      = 'k'     \n",
    "pl.rcParams['ytick.labelsize']  = 'large'\n",
    "pl.rcParams['ytick.direction']  = 'in'"
   ]
  },
  {
   "cell_type": "code",
   "execution_count": 2,
   "metadata": {
    "collapsed": true
   },
   "outputs": [],
   "source": [
    "theta = -5.\n",
    "z = -3."
   ]
  },
  {
   "cell_type": "code",
   "execution_count": 3,
   "metadata": {
    "collapsed": false
   },
   "outputs": [],
   "source": [
    "#we want to prove that Graf's addition theorem is correct\n",
    "\n",
    "def left(n):\n",
    "    ans = np.exp(-1j * n * theta) * special.jn(n, z)**2.\n",
    "    return ans\n",
    "\n",
    "left_tot = 0.\n",
    "\n",
    "right = special.j0(2. * z * np.sin(theta/2.))\n",
    "\n",
    "\n",
    "for i in range(-100, 100):\n",
    "#    print i, left(i)\n",
    "    left_tot += left(i)"
   ]
  },
  {
   "cell_type": "markdown",
   "metadata": {},
   "source": [
    "Test of Graf's theorem\n",
    "\n",
    "$\\sum_{n=-\\infty}^{\\infty} e^{-i n \\theta} J_n(z)^2 = J_0 (2 z sin(\\frac{\\theta}{2}))$\n",
    "\n",
    "Answer below is summed from $n = - 100$ to $n = 100$"
   ]
  },
  {
   "cell_type": "code",
   "execution_count": 4,
   "metadata": {
    "collapsed": false
   },
   "outputs": [
    {
     "name": "stdout",
     "output_type": "stream",
     "text": [
      "LHS: -0.390876258931\n",
      "RHS: -0.390876258931\n",
      "error: -1.66533453694e-16\n"
     ]
    }
   ],
   "source": [
    "print 'LHS:', left_tot.real\n",
    "print 'RHS:', right\n",
    "print 'error:', left_tot.real - right"
   ]
  },
  {
   "cell_type": "code",
   "execution_count": 6,
   "metadata": {
    "collapsed": false
   },
   "outputs": [],
   "source": [
    "#test #2\n",
    "\n",
    "def left(n):\n",
    "    ans = np.exp(-1j * n * theta) * special.jvp(n, z)**2.\n",
    "    return ans\n",
    "\n",
    "left_tot = 0.\n",
    "\n",
    "right = 0.5 * (np.cos(theta) * special.j0(2. * z * np.sin(theta/2.)) + special.jn(2, 2. * z * np.sin(theta/2.)))\n",
    "\n",
    "\n",
    "for i in range(-100, 100):\n",
    "#    print i, left(i)\n",
    "    left_tot += left(i)"
   ]
  },
  {
   "cell_type": "markdown",
   "metadata": {},
   "source": [
    "Test of Graf's theorem\n",
    "\n",
    "$\\sum_{n=-\\infty}^{\\infty} e^{-i n \\theta} J_n'(z)^2 = \\frac{1}{2} \\bigg[ \\cos(\\theta) J_0 (2 z sin(\\frac{\\theta}{2})) + J_2(2 z sin(\\frac{\\theta}{2})) \\bigg] $\n",
    "\n",
    "Answer below is summed from $n = - 100$ to $n = 100$"
   ]
  },
  {
   "cell_type": "code",
   "execution_count": 7,
   "metadata": {
    "collapsed": false
   },
   "outputs": [
    {
     "name": "stdout",
     "output_type": "stream",
     "text": [
      "LHS: 0.167653802435\n",
      "RHS: 0.167653802435\n",
      "error: -5.55111512313e-17\n"
     ]
    }
   ],
   "source": [
    "print 'LHS:', left_tot.real\n",
    "print 'RHS:', right\n",
    "print 'error:', left_tot.real- right"
   ]
  },
  {
   "cell_type": "code",
   "execution_count": 8,
   "metadata": {
    "collapsed": false
   },
   "outputs": [],
   "source": [
    "#test #3\n",
    "\n",
    "def left(n):\n",
    "    ans = np.exp(-1j * n * theta) * n**2. * special.jn(n, z)**2.\n",
    "    return ans\n",
    "\n",
    "left_tot = 0.\n",
    "\n",
    "right = 0.5 * z**2. * (np.cos(theta) * special.j0(2. * z * np.sin(theta/2.)) \n",
    "                       - special.jn(2, 2. * z * np.sin(theta/2.)))\n",
    "\n",
    "\n",
    "for i in range(-100, 100):\n",
    "#    print i, left(i)\n",
    "    left_tot += left(i)"
   ]
  },
  {
   "cell_type": "markdown",
   "metadata": {},
   "source": [
    "Test of Graf's theorem\n",
    "\n",
    "$\\sum_{n=-\\infty}^{\\infty} e^{-i n \\theta} n^2 J_n(z)^2 = \\frac{z^2}{2} \\bigg[ \\cos(\\theta) J_0 (2 z sin(\\frac{\\theta}{2})) - J_2(2 z sin(\\frac{\\theta}{2})) \\bigg] $\n",
    "\n",
    "Answer below is summed from $n = - 100$ to $n = 100$"
   ]
  },
  {
   "cell_type": "code",
   "execution_count": 9,
   "metadata": {
    "collapsed": false
   },
   "outputs": [
    {
     "name": "stdout",
     "output_type": "stream",
     "text": [
      "LHS: -2.5067755466\n",
      "RHS: -2.5067755466\n",
      "error: -8.881784197e-16\n"
     ]
    }
   ],
   "source": [
    "print 'LHS:', left_tot.real\n",
    "print 'RHS:', right\n",
    "print 'error:', left_tot.real- right"
   ]
  },
  {
   "cell_type": "code",
   "execution_count": 10,
   "metadata": {
    "collapsed": true
   },
   "outputs": [],
   "source": [
    "#test #4\n",
    "\n",
    "def left(n):\n",
    "    ans = np.exp(-1j * n * theta) * n * special.jn(n, z) * special.jvp(n, z)\n",
    "    return ans\n",
    "\n",
    "left_tot = 0.\n",
    "\n",
    "right = 1j * z/2. * np.sin(-theta) * special.j0(2. * z * np.sin(theta/2.))\n",
    "\n",
    "for i in range(-100, 100):\n",
    "#    print i, left(i)\n",
    "    left_tot += left(i)"
   ]
  },
  {
   "cell_type": "markdown",
   "metadata": {},
   "source": [
    "Test of Graf's theorem\n",
    "\n",
    "$\\sum_{n=-\\infty}^{\\infty} e^{-i n \\theta} n J_n(z) J_n'(z) = \\frac{i z}{2} \\sin(-\\theta) J_0 (2 z sin(\\frac{\\theta}{2}))$\n",
    "\n",
    "Answer below is summed from $n = - 100$ to $n = 100$"
   ]
  },
  {
   "cell_type": "code",
   "execution_count": 11,
   "metadata": {
    "collapsed": false
   },
   "outputs": [
    {
     "name": "stdout",
     "output_type": "stream",
     "text": [
      "LHS: (2.48645378366e-18-0.562231099618j)\n",
      "RHS: (-0-0.562231099618j)\n",
      "error: 0.0\n"
     ]
    }
   ],
   "source": [
    "print 'LHS:', left_tot\n",
    "print 'RHS:', right\n",
    "print 'error:', left_tot.imag - right.imag"
   ]
  },
  {
   "cell_type": "code",
   "execution_count": 14,
   "metadata": {
    "collapsed": true
   },
   "outputs": [],
   "source": [
    "#test #5\n",
    "\n",
    "def left(n):\n",
    "    ans = np.exp(-1j * n * theta) * n * special.jn(n, z)**2.\n",
    "    return ans\n",
    "\n",
    "left_tot = 0.\n",
    "\n",
    "right = 1j * z * np.cos(theta/2.) * special.jn(1, 2. * z * np.sin(-theta/2.))\n",
    "\n",
    "\n",
    "for i in range(-100, 100):\n",
    "#    print i, left(i)\n",
    "    left_tot += left(i)"
   ]
  },
  {
   "cell_type": "markdown",
   "metadata": {},
   "source": [
    "Test of Graf's theorem\n",
    "\n",
    "$\\sum_{n=-\\infty}^{\\infty} e^{-i n \\theta} n J_n(z)^2 = i z \\cos(\\frac{\\theta}{2}) J_1 (2 z sin(-\\frac{\\theta}{2}))$\n",
    "\n",
    "Answer below is summed from $n = - 100$ to $n = 100$"
   ]
  },
  {
   "cell_type": "code",
   "execution_count": 15,
   "metadata": {
    "collapsed": false
   },
   "outputs": [
    {
     "name": "stdout",
     "output_type": "stream",
     "text": [
      "LHS: (2.77835502953e-17-0.238663516554j)\n",
      "RHS: (-0-0.238663516554j)\n",
      "error: -1.13797860024e-15\n"
     ]
    }
   ],
   "source": [
    "print 'LHS:', left_tot\n",
    "print 'RHS:', right\n",
    "print 'error:', left_tot.imag - right.imag"
   ]
  },
  {
   "cell_type": "code",
   "execution_count": 16,
   "metadata": {
    "collapsed": true
   },
   "outputs": [],
   "source": [
    "#test #6\n",
    "\n",
    "def left(n):\n",
    "    ans = np.exp(-1j * n * theta) * special.jn(n, z) * special.jvp(n, z)\n",
    "    return ans\n",
    "\n",
    "left_tot = 0.\n",
    "\n",
    "right = - np.sin(-theta/2.) * special.jn(1, 2. * z * np.sin(-theta/2.))\n",
    "\n",
    "\n",
    "for i in range(-100, 100):\n",
    "#    print i, left(i)\n",
    "    left_tot += left(i)"
   ]
  },
  {
   "cell_type": "markdown",
   "metadata": {},
   "source": [
    "Test of Graf's theorem\n",
    "\n",
    "$\\sum_{n=-\\infty}^{\\infty} e^{-i n \\theta} J_n(z) J_n'(z) = - \\sin(\\frac{\\theta}{2}) J_1 (2 z sin(\\frac{\\theta}{2}))$\n",
    "\n",
    "Answer below is summed from $n = - 100$ to $n = 100$"
   ]
  },
  {
   "cell_type": "code",
   "execution_count": 17,
   "metadata": {
    "collapsed": false
   },
   "outputs": [
    {
     "name": "stdout",
     "output_type": "stream",
     "text": [
      "LHS: 0.0594289894676\n",
      "RHS: 0.0594289894676\n",
      "error: 2.49800180541e-16\n"
     ]
    }
   ],
   "source": [
    "print 'LHS:', left_tot.real\n",
    "print 'RHS:', right\n",
    "print 'error:', left_tot.real- right"
   ]
  },
  {
   "cell_type": "code",
   "execution_count": 36,
   "metadata": {
    "collapsed": false
   },
   "outputs": [
    {
     "name": "stdout",
     "output_type": "stream",
     "text": [
      "-3.45679052017e-07  =  -3.45679052017e-07\n",
      "1.1234619416e-07  =  1.1234619416e-07\n",
      "-3.88357258949e-14  =  -3.88357258949e-14\n"
     ]
    }
   ],
   "source": [
    "#testing assumed Bessel function identities\n",
    "\n",
    "n = 13\n",
    "\n",
    "print n * special.jn(n, z), ' = ', z / 2. * (special.jn(n-1, z) + special.jn(n+1, z))\n",
    "print special.jvp(n, z),    ' = ', 1. / 2. * (special.jn(n-1, z) - special.jn(n+1, z))\n",
    "\n",
    "print n * special.jn(n, z) * special.jvp(n, z), ' = ', z/4. * (special.jn(n-1, z)**2. - special.jn(n+1, z)**2.)"
   ]
  },
  {
   "cell_type": "code",
   "execution_count": 37,
   "metadata": {
    "collapsed": false
   },
   "outputs": [
    {
     "name": "stdout",
     "output_type": "stream",
     "text": [
      "LHS: (-0.110876813854+0.374820733078j)\n",
      "RHS: (-0.110876813854-0.374820733078j)\n",
      "error: (2.77555756156e-17+0.749641466157j)\n"
     ]
    }
   ],
   "source": [
    "#test #7\n",
    "\n",
    "def left(n):\n",
    "    ans = np.exp(-1j * n * theta) * special.jn(n+1, z)**2.\n",
    "    return ans\n",
    "\n",
    "left_tot = 0.\n",
    "\n",
    "right = np.exp(-1j * theta) * special.jn(0, 2. * z * np.sin(theta/2.))\n",
    "\n",
    "\n",
    "for i in range(-100, 100):\n",
    "#    print i, left(i)\n",
    "    left_tot += left(i)\n",
    "    \n",
    "print 'LHS:', left_tot\n",
    "print 'RHS:', right\n",
    "print 'error:', left_tot - right"
   ]
  },
  {
   "cell_type": "code",
   "execution_count": null,
   "metadata": {
    "collapsed": false
   },
   "outputs": [],
   "source": []
  },
  {
   "cell_type": "code",
   "execution_count": null,
   "metadata": {
    "collapsed": true
   },
   "outputs": [],
   "source": []
  }
 ],
 "metadata": {
  "kernelspec": {
   "display_name": "Python 2",
   "language": "python",
   "name": "python2"
  },
  "language_info": {
   "codemirror_mode": {
    "name": "ipython",
    "version": 2
   },
   "file_extension": ".py",
   "mimetype": "text/x-python",
   "name": "python",
   "nbconvert_exporter": "python",
   "pygments_lexer": "ipython2",
   "version": "2.7.12"
  }
 },
 "nbformat": 4,
 "nbformat_minor": 2
}
