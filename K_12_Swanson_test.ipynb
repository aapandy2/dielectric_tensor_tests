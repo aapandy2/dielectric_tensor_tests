{
 "cells": [
  {
   "cell_type": "code",
   "execution_count": 13,
   "metadata": {
    "collapsed": true
   },
   "outputs": [],
   "source": [
    "%matplotlib inline\n",
    "import numpy as np\n",
    "import pylab as pl\n",
    "import scipy.special as special\n",
    "from scipy.integrate import quad\n",
    "\n",
    "# Set plot parameters to make beautiful plots\n",
    "pl.rcParams['figure.figsize']  = 12, 7.5\n",
    "pl.rcParams['lines.linewidth'] = 1.5\n",
    "pl.rcParams['font.family']     = 'serif'\n",
    "pl.rcParams['font.weight']     = 'bold'\n",
    "pl.rcParams['font.size']       = 20  \n",
    "pl.rcParams['font.sans-serif'] = 'serif'\n",
    "pl.rcParams['text.usetex']     = True\n",
    "pl.rcParams['axes.linewidth']  = 1.5\n",
    "pl.rcParams['axes.titlesize']  = 'medium'\n",
    "pl.rcParams['axes.labelsize']  = 'large'\n",
    "\n",
    "pl.rcParams['xtick.major.size'] = 8     \n",
    "pl.rcParams['xtick.minor.size'] = 4     \n",
    "pl.rcParams['xtick.major.pad']  = 8     \n",
    "pl.rcParams['xtick.minor.pad']  = 8     \n",
    "pl.rcParams['xtick.color']      = 'k'     \n",
    "pl.rcParams['xtick.labelsize']  = 'large'\n",
    "pl.rcParams['xtick.direction']  = 'in'    \n",
    "\n",
    "pl.rcParams['ytick.major.size'] = 8     \n",
    "pl.rcParams['ytick.minor.size'] = 4     \n",
    "pl.rcParams['ytick.major.pad']  = 8     \n",
    "pl.rcParams['ytick.minor.pad']  = 8     \n",
    "pl.rcParams['ytick.color']      = 'k'     \n",
    "pl.rcParams['ytick.labelsize']  = 'large'\n",
    "pl.rcParams['ytick.direction']  = 'in'"
   ]
  },
  {
   "cell_type": "code",
   "execution_count": 14,
   "metadata": {
    "collapsed": false
   },
   "outputs": [],
   "source": [
    "# EVERYTHING IS 1 units\n",
    "\n",
    "#constants\n",
    "e        = 1.     #electron charge\n",
    "m        = 1.     #electron mass\n",
    "c        = 1.     #speed of light\n",
    "epsilon0 = 1.     #permittivity of free space\n",
    "epsilon  = -1.    #sign of electron charge\n",
    "\n",
    "#parameters\n",
    "B     = 1.         #background B strength\n",
    "n_e   = 1.         #electron number density cm^-3\n",
    "w_T   = 1.         #dimensionless electron temp. k_B T / m c^2\n",
    "theta = np.pi / 3. #observer angle\n",
    "\n",
    "#derived quantities\n",
    "omega_p = np.sqrt(n_e * e**2. / (m * epsilon0))     # plasma frequency\n",
    "omega_c = e * B / (m * c)                           # cyclotron frequency"
   ]
  },
  {
   "cell_type": "code",
   "execution_count": 15,
   "metadata": {
    "collapsed": false
   },
   "outputs": [],
   "source": [
    "#we first need the plasma dispersion function\n",
    "\n",
    "def Z_integrand(xi, zeta):\n",
    "    prefactor   = 1. / np.sqrt(np.pi)\n",
    "    numerator   = np.exp(-xi**2.)\n",
    "    \n",
    "#    denominator = xi - zeta  #included in quad with weight type 'cauchy' passed to quad\n",
    "    denominator = 1.\n",
    "    \n",
    "    return prefactor * numerator / denominator\n",
    "\n",
    "\n",
    "#seems to work up to |zeta| = 625 where it's approx. -/+ 0.002 (so negative zeta yields +0.002)\n",
    "def Z(zeta): \n",
    "    if(np.abs(zeta) < 2.):\n",
    "        int_limit = 10. * np.abs(zeta)\n",
    "    elif(np.abs(zeta) > 2. and np.abs(zeta) < 130.):\n",
    "        int_limit = 2. * np.abs(zeta)\n",
    "    else:\n",
    "        int_limit = 1.5 * np.abs(zeta)\n",
    "    \n",
    "    imag_part = 1j * np.pi * Z_integrand(zeta, zeta)\n",
    "    \n",
    "    ans = quad(lambda xi: Z_integrand(xi, zeta), -int_limit, int_limit, weight='cauchy', wvar=zeta)[0]\n",
    "    \n",
    "    return ans + imag_part"
   ]
  },
  {
   "cell_type": "code",
   "execution_count": 18,
   "metadata": {
    "collapsed": false
   },
   "outputs": [],
   "source": [
    "def K_12_summand(n, omega):\n",
    "    k_perp = omega / c * np.sin(theta)                  # wavevector perp component n = 1 approximation\n",
    "    k_z    = omega / c * np.cos(theta)                  # wavevector parallel comp. n = 1 approximation\n",
    "    lambd   = k_perp**2. * w_T**2. / (2. * omega_c**2.) # just a defined parameter\n",
    "    prefactor = 1j * omega_p**2. * np.exp(-lambd) / (omega * k_z * w_T)\n",
    "    zeta = (omega + n * omega_c) / (k_z * w_T)\n",
    "    \n",
    "    if(np.abs(zeta) > 625):\n",
    "        print 'zeta out of range of PDF'\n",
    "    \n",
    "    term1 = n * (special.iv(n, lambd) - special.ivp(n, lambd)) * Z(zeta)\n",
    "    ans = prefactor * term1\n",
    "    return ans\n",
    "\n",
    "def K_12(terms, omega):\n",
    "    ans = 0.\n",
    "    for i in range(-terms, terms):\n",
    "        ans += K_12_summand(i, omega)\n",
    "#        print i, ans  \n",
    "    return ans"
   ]
  },
  {
   "cell_type": "code",
   "execution_count": 19,
   "metadata": {
    "collapsed": false
   },
   "outputs": [
    {
     "name": "stdout",
     "output_type": "stream",
     "text": [
      "(-0.575000456786+0.173390831944j)\n"
     ]
    }
   ],
   "source": [
    "#print K_12(number of sum terms evaluated, omega)\n",
    "\n",
    "print K_12(100, 1.1)"
   ]
  },
  {
   "cell_type": "code",
   "execution_count": null,
   "metadata": {
    "collapsed": true
   },
   "outputs": [],
   "source": [
    "#ACTUAL REASONABLE VALUES\n",
    "\n",
    "#constants\n",
    "e        = 4.80320680e-10    #electron charge\n",
    "m        = 9.1093826e-28     #electron mass\n",
    "c        = 2.99792458e10     #speed of light\n",
    "epsilon0 = 1./(4. * np.pi)   #permittivity of free space\n",
    "epsilon  = -1.               #sign of electron charge\n",
    "\n",
    "#parameters\n",
    "omega = 1.5 * 527646296.344         #wave frequency\n",
    "B     = 30.                         #background B strength\n",
    "n_e   = 1.                          #electron number density cm^-3\n",
    "w_T   = 10.                         #dimensionless electron temp. k_B T / m c^2\n",
    "theta = np.pi / 3.                  #observer angle\n",
    "\n",
    "#derived quantities\n",
    "\n",
    "k_perp = omega / c * np.sin(theta)                  # wavevector perp component n = 1 approximation\n",
    "k_z    = omega / c * np.cos(theta)                  # wavevector parallel comp. n = 1 approximation\n",
    "omega_p = np.sqrt(n_e * e**2. / (m * epsilon0))     # plasma frequency\n",
    "omega_c = e * B / (m * c)                           # cyclotron frequency\n",
    "lambd   = k_perp**2. * w_T**2. / (2. * omega_c**2.) # just a defined parameter"
   ]
  }
 ],
 "metadata": {
  "kernelspec": {
   "display_name": "Python 2",
   "language": "python",
   "name": "python2"
  },
  "language_info": {
   "codemirror_mode": {
    "name": "ipython",
    "version": 2
   },
   "file_extension": ".py",
   "mimetype": "text/x-python",
   "name": "python",
   "nbconvert_exporter": "python",
   "pygments_lexer": "ipython2",
   "version": "2.7.12"
  }
 },
 "nbformat": 4,
 "nbformat_minor": 2
}
