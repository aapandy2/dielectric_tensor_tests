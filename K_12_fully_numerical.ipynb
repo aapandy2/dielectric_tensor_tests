{
 "cells": [
  {
   "cell_type": "code",
   "execution_count": 39,
   "metadata": {
    "collapsed": true
   },
   "outputs": [],
   "source": [
    "%matplotlib inline\n",
    "import numpy as np\n",
    "import pylab as pl\n",
    "import scipy.special as special\n",
    "from scipy.integrate import quad\n",
    "\n",
    "# Set plot parameters to make beautiful plots\n",
    "pl.rcParams['figure.figsize']  = 12, 7.5\n",
    "pl.rcParams['lines.linewidth'] = 1.5\n",
    "pl.rcParams['font.family']     = 'serif'\n",
    "pl.rcParams['font.weight']     = 'bold'\n",
    "pl.rcParams['font.size']       = 20  \n",
    "pl.rcParams['font.sans-serif'] = 'serif'\n",
    "pl.rcParams['text.usetex']     = True\n",
    "pl.rcParams['axes.linewidth']  = 1.5\n",
    "pl.rcParams['axes.titlesize']  = 'medium'\n",
    "pl.rcParams['axes.labelsize']  = 'large'\n",
    "\n",
    "pl.rcParams['xtick.major.size'] = 8     \n",
    "pl.rcParams['xtick.minor.size'] = 4     \n",
    "pl.rcParams['xtick.major.pad']  = 8     \n",
    "pl.rcParams['xtick.minor.pad']  = 8     \n",
    "pl.rcParams['xtick.color']      = 'k'     \n",
    "pl.rcParams['xtick.labelsize']  = 'large'\n",
    "pl.rcParams['xtick.direction']  = 'in'    \n",
    "\n",
    "pl.rcParams['ytick.major.size'] = 8     \n",
    "pl.rcParams['ytick.minor.size'] = 4     \n",
    "pl.rcParams['ytick.major.pad']  = 8     \n",
    "pl.rcParams['ytick.minor.pad']  = 8     \n",
    "pl.rcParams['ytick.color']      = 'k'     \n",
    "pl.rcParams['ytick.labelsize']  = 'large'\n",
    "pl.rcParams['ytick.direction']  = 'in'"
   ]
  },
  {
   "cell_type": "code",
   "execution_count": 40,
   "metadata": {
    "collapsed": true
   },
   "outputs": [],
   "source": [
    "# EVERYTHING IS 1 units\n",
    "\n",
    "#constants\n",
    "e        = 1.     #electron charge\n",
    "m        = 1.     #electron mass\n",
    "c        = 1.     #speed of light\n",
    "epsilon0 = 1.     #permittivity of free space\n",
    "epsilon  = -1.    #sign of electron charge\n",
    "\n",
    "#parameters\n",
    "B     = 1.         #background B strength\n",
    "n_e   = 1.         #electron number density cm^-3\n",
    "w_T   = 1.        #dimensionless electron temp. k_B T / m c^2\n",
    "theta = np.pi / 3. #observer angle\n",
    "\n",
    "#derived quantities\n",
    "omega_p = np.sqrt(n_e * e**2. / (m * epsilon0))     # plasma frequency    (=1 in these units)\n",
    "omega_c = e * B / (m * c)                           # cyclotron frequency (=1 in these units)"
   ]
  },
  {
   "cell_type": "code",
   "execution_count": 54,
   "metadata": {
    "collapsed": true
   },
   "outputs": [],
   "source": [
    "def K_12_integrand(v_perp, v_z, tau, omega):\n",
    "    minus_sign= -1. #why do we have this in this version but not the semianalytic one?\n",
    "    prefactor = 2. * 1j * omega_p**2. / (w_T**5. * np.sqrt(np.pi) * omega)\n",
    "    k_perp    = omega / c * np.sin(theta)                  # wavevector perp component n = 1 approximation\n",
    "    k_z       = omega / c * np.cos(theta)                  # wavevector parallel comp. n = 1 approximation\n",
    "    a         = omega - k_z * v_z\n",
    "    term1     = v_perp**3. * np.exp(-(v_perp**2. + v_z**2.)/w_T**2.)\n",
    "    term2     = np.exp(1j*a*tau) * np.sin(epsilon * omega_c * tau)\n",
    "    term3     = special.j0(2. * k_perp * v_perp / (epsilon * omega_c) * np.sin(epsilon * omega_c * tau / 2.))\n",
    "    ans       = prefactor * term1 * term2 * term3\n",
    "    return minus_sign * ans"
   ]
  },
  {
   "cell_type": "code",
   "execution_count": 55,
   "metadata": {
    "collapsed": false
   },
   "outputs": [],
   "source": [
    "def K_12_perp_integrated(v_z, tau, omega):\n",
    "    real_integral_result = quad(lambda v_perp: K_12_integrand(v_perp, v_z, tau, omega).real, 0., np.inf)\n",
    "    imag_integral_result = quad(lambda v_perp: K_12_integrand(v_perp, v_z, tau, omega).imag, 0., np.inf)\n",
    "    #    print integral_result\n",
    "    ans = real_integral_result[0] + imag_integral_result[0] * 1j\n",
    "#    print imag_integral_result\n",
    "    return ans"
   ]
  },
  {
   "cell_type": "code",
   "execution_count": 56,
   "metadata": {
    "collapsed": false
   },
   "outputs": [],
   "source": [
    "def K_12_v_integrated(tau, omega):\n",
    "    real_integral_result = quad(lambda v_z: K_12_perp_integrated(v_z, tau, omega).real, -np.inf, np.inf)\n",
    "    imag_integral_result = quad(lambda v_z: K_12_perp_integrated(v_z, tau, omega).imag, -np.inf, np.inf)\n",
    "    ans = real_integral_result[0] + imag_integral_result[0] * 1j\n",
    "    return ans"
   ]
  },
  {
   "cell_type": "code",
   "execution_count": 57,
   "metadata": {
    "collapsed": false
   },
   "outputs": [
    {
     "name": "stdout",
     "output_type": "stream",
     "text": [
      "(0.2984534877951828, 8.658843293074152e-09)\n"
     ]
    }
   ],
   "source": [
    "print quad(lambda tau: K_12_v_integrated(tau, 1.).imag, 0., 20.)"
   ]
  },
  {
   "cell_type": "code",
   "execution_count": null,
   "metadata": {
    "collapsed": true
   },
   "outputs": [],
   "source": []
  }
 ],
 "metadata": {
  "kernelspec": {
   "display_name": "Python 2",
   "language": "python",
   "name": "python2"
  },
  "language_info": {
   "codemirror_mode": {
    "name": "ipython",
    "version": 2
   },
   "file_extension": ".py",
   "mimetype": "text/x-python",
   "name": "python",
   "nbconvert_exporter": "python",
   "pygments_lexer": "ipython2",
   "version": "2.7.12"
  }
 },
 "nbformat": 4,
 "nbformat_minor": 2
}
