{
 "cells": [
  {
   "cell_type": "code",
   "execution_count": 1,
   "metadata": {
    "collapsed": true
   },
   "outputs": [],
   "source": [
    "%matplotlib inline\n",
    "import numpy as np\n",
    "import pylab as pl\n",
    "from scipy.interpolate import interp2d\n",
    "import scipy.special as special\n",
    "from scipy.integrate import quad\n",
    "\n",
    "# Set plot parameters to make beautiful plots\n",
    "pl.rcParams['figure.figsize']  = 12, 7.5\n",
    "pl.rcParams['lines.linewidth'] = 1.5\n",
    "pl.rcParams['font.family']     = 'serif'\n",
    "pl.rcParams['font.weight']     = 'bold'\n",
    "pl.rcParams['font.size']       = 20  \n",
    "pl.rcParams['font.sans-serif'] = 'serif'\n",
    "pl.rcParams['text.usetex']     = True\n",
    "pl.rcParams['axes.linewidth']  = 1.5\n",
    "pl.rcParams['axes.titlesize']  = 'medium'\n",
    "pl.rcParams['axes.labelsize']  = 'large'\n",
    "\n",
    "pl.rcParams['xtick.major.size'] = 8     \n",
    "pl.rcParams['xtick.minor.size'] = 4     \n",
    "pl.rcParams['xtick.major.pad']  = 8     \n",
    "pl.rcParams['xtick.minor.pad']  = 8     \n",
    "pl.rcParams['xtick.color']      = 'k'     \n",
    "pl.rcParams['xtick.labelsize']  = 'large'\n",
    "pl.rcParams['xtick.direction']  = 'in'    \n",
    "\n",
    "pl.rcParams['ytick.major.size'] = 8     \n",
    "pl.rcParams['ytick.minor.size'] = 4     \n",
    "pl.rcParams['ytick.major.pad']  = 8     \n",
    "pl.rcParams['ytick.minor.pad']  = 8     \n",
    "pl.rcParams['ytick.color']      = 'k'     \n",
    "pl.rcParams['ytick.labelsize']  = 'large'\n",
    "pl.rcParams['ytick.direction']  = 'in'"
   ]
  },
  {
   "cell_type": "code",
   "execution_count": 2,
   "metadata": {
    "collapsed": true
   },
   "outputs": [],
   "source": [
    "#load datafiles\n",
    "chi_11_real_data = np.loadtxt('datafiles/chi_11_real_step_5.txt')\n",
    "chi_11_imag_data = np.loadtxt('datafiles/chi_11_imag_step_5.txt')\n",
    "\n",
    "chi_12_real_data = np.loadtxt('datafiles/chi_12_real_step_5.txt')\n",
    "chi_12_imag_data = np.loadtxt('datafiles/chi_12_imag_step_5.txt')\n",
    "\n",
    "chi_13_real_data = np.loadtxt('datafiles/chi_13_real_step_5.txt')\n",
    "chi_13_imag_data = np.loadtxt('datafiles/chi_13_imag_step_5.txt')\n",
    "\n",
    "chi_22_real_data = np.loadtxt('datafiles/chi_22_real_step_5.txt')\n",
    "chi_22_imag_data = np.loadtxt('datafiles/chi_22_imag_step_5.txt')\n",
    "\n",
    "chi_32_real_data = np.loadtxt('datafiles/chi_32_real_step_5.txt')\n",
    "chi_32_imag_data = np.loadtxt('datafiles/chi_32_imag_step_5.txt')\n",
    "\n",
    "chi_33_real_data = np.loadtxt('datafiles/chi_33_real_step_5.txt')\n",
    "#chi_33_imag_data = np.loadtxt('datafiles/chi_33_imag_step_5.txt') #not done yet"
   ]
  },
  {
   "cell_type": "code",
   "execution_count": 3,
   "metadata": {
    "collapsed": false
   },
   "outputs": [],
   "source": [
    "#generate spline fits\n",
    "\n",
    "start = 1.\n",
    "end   = 1000.\n",
    "step  = 5.\n",
    "\n",
    "gam   = np.arange(start, end, step)\n",
    "omrat = np.arange(start, end, step)\n",
    "\n",
    "chi_11_real_spline = interp2d(gam, omrat, chi_11_real_data)\n",
    "chi_11_imag_spline = interp2d(gam, omrat, chi_11_imag_data)\n",
    "\n",
    "chi_12_real_spline = interp2d(gam, omrat, chi_12_real_data)\n",
    "chi_12_imag_spline = interp2d(gam, omrat, chi_12_imag_data)\n",
    "\n",
    "chi_13_real_spline = interp2d(gam, omrat, chi_13_real_data)\n",
    "chi_13_imag_spline = interp2d(gam, omrat, chi_13_imag_data)\n",
    "\n",
    "chi_22_real_spline = interp2d(gam, omrat, chi_22_real_data)\n",
    "chi_22_imag_spline = interp2d(gam, omrat, chi_22_imag_data)\n",
    "\n",
    "chi_32_real_spline = interp2d(gam, omrat, chi_32_real_data)\n",
    "chi_32_imag_spline = interp2d(gam, omrat, chi_32_imag_data)\n",
    "\n",
    "chi_33_real_spline = interp2d(gam, omrat, chi_33_real_data)\n",
    "#chi_33_imag_spline = interp2d(gam, omrat, chi_33_imag_data) #not done yet\n",
    "\n",
    "#pl.plot(gam, chi_12_spline(gam, 1000.))\n",
    "#pl.plot(gam, chi_32_spline(gam, 1000.))"
   ]
  },
  {
   "cell_type": "code",
   "execution_count": 4,
   "metadata": {
    "collapsed": false
   },
   "outputs": [],
   "source": [
    "epsilon0  = 1./(4. * np.pi)\n",
    "e         = 4.80320680e-10\n",
    "m         = 9.1093826e-28\n",
    "c         = 2.99792458e10\n",
    "epsilon   = -1.\n",
    "\n",
    "n_e     = 1.\n",
    "B       = 1.         \n",
    "e       = 1.          \n",
    "theta   = np.pi/3.   \n",
    "omega_p = np.sqrt(n_e * e*e / (m * epsilon0))    \n",
    "omega_c = e * B / (m * c)\n",
    "\n",
    "omega   = 1 * omega_c\n",
    "theta_e = 10."
   ]
  },
  {
   "cell_type": "code",
   "execution_count": 5,
   "metadata": {
    "collapsed": false
   },
   "outputs": [],
   "source": [
    "#integrands\n",
    "def chi_11_real_integrand(gamma, theta_e, omratio):\n",
    "    beta = np.sqrt(1. - 1./gamma**2.)\n",
    "    dist = np.exp(-gamma/theta_e) / (4. * np.pi * theta_e**2. * special.kn(2, 1./theta_e))\n",
    "    gam_term = dist * gamma**3. * beta**3.\n",
    "    ans = gam_term * chi_11_real_spline(gamma, omratio)[0]\n",
    "    return ans\n",
    "\n",
    "def chi_12_real_integrand(gamma, theta_e, omratio):\n",
    "    beta = np.sqrt(1. - 1./gamma**2.)\n",
    "    dist = np.exp(-gamma/theta_e) / (4. * np.pi * theta_e**2. * special.kn(2, 1./theta_e))\n",
    "    gam_term = dist * gamma**3. * beta**3.\n",
    "    ans = gam_term * chi_12_real_spline(gamma, omratio)[0]\n",
    "    return ans\n",
    "\n",
    "def chi_13_real_integrand(gamma, theta_e, omratio):\n",
    "    beta = np.sqrt(1. - 1./gamma**2.)\n",
    "    dist = np.exp(-gamma/theta_e) / (4. * np.pi * theta_e**2. * special.kn(2, 1./theta_e))\n",
    "    gam_term = dist * gamma**3. * beta**3.\n",
    "    ans = gam_term * chi_13_real_spline(gamma, omratio)[0]\n",
    "    return ans\n",
    "\n",
    "def chi_22_real_integrand(gamma, theta_e, omratio):\n",
    "    beta = np.sqrt(1. - 1./gamma**2.)\n",
    "    dist = np.exp(-gamma/theta_e) / (4. * np.pi * theta_e**2. * special.kn(2, 1./theta_e))\n",
    "    gam_term = dist * gamma**3. * beta**3.\n",
    "    ans = gam_term * chi_22_real_spline(gamma, omratio)[0]\n",
    "    return ans\n",
    "\n",
    "def chi_32_real_integrand(gamma, theta_e, omratio):\n",
    "    beta = np.sqrt(1. - 1./gamma**2.)\n",
    "    dist = np.exp(-gamma/theta_e) / (4. * np.pi * theta_e**2. * special.kn(2, 1./theta_e))\n",
    "    gam_term = dist * gamma**3. * beta**3.\n",
    "    ans = gam_term * chi_32_real_spline(gamma, omratio)[0]\n",
    "    return ans\n",
    "\n",
    "def chi_33_real_integrand(gamma, theta_e, omratio):\n",
    "    beta = np.sqrt(1. - 1./gamma**2.)\n",
    "    dist = np.exp(-gamma/theta_e) / (4. * np.pi * theta_e**2. * special.kn(2, 1./theta_e))\n",
    "    gam_term = dist * gamma**3. * beta**3.\n",
    "    ans = gam_term * chi_33_real_spline(gamma, omratio)[0]\n",
    "    return ans\n",
    "\n",
    "def chi_11_imag_integrand(gamma, theta_e, omratio):\n",
    "    beta = np.sqrt(1. - 1./gamma**2.)\n",
    "    dist = np.exp(-gamma/theta_e) / (4. * np.pi * theta_e**2. * special.kn(2, 1./theta_e))\n",
    "    gam_term = dist * gamma**3. * beta**3.\n",
    "    ans = gam_term * chi_11_imag_spline(gamma, omratio)[0]\n",
    "    return ans\n",
    "\n",
    "def chi_12_imag_integrand(gamma, theta_e, omratio):\n",
    "    beta = np.sqrt(1. - 1./gamma**2.)\n",
    "    dist = np.exp(-gamma/theta_e) / (4. * np.pi * theta_e**2. * special.kn(2, 1./theta_e))\n",
    "    gam_term = dist * gamma**3. * beta**3.\n",
    "    ans = gam_term * chi_12_imag_spline(gamma, omratio)[0]\n",
    "    return ans\n",
    "\n",
    "def chi_13_imag_integrand(gamma, theta_e, omratio):\n",
    "    beta = np.sqrt(1. - 1./gamma**2.)\n",
    "    dist = np.exp(-gamma/theta_e) / (4. * np.pi * theta_e**2. * special.kn(2, 1./theta_e))\n",
    "    gam_term = dist * gamma**3. * beta**3.\n",
    "    ans = gam_term * chi_13_imag_spline(gamma, omratio)[0]\n",
    "    return ans\n",
    "\n",
    "def chi_22_imag_integrand(gamma, theta_e, omratio):\n",
    "    beta = np.sqrt(1. - 1./gamma**2.)\n",
    "    dist = np.exp(-gamma/theta_e) / (4. * np.pi * theta_e**2. * special.kn(2, 1./theta_e))\n",
    "    gam_term = dist * gamma**3. * beta**3.\n",
    "    ans = gam_term * chi_22_imag_spline(gamma, omratio)[0]\n",
    "    return ans\n",
    "\n",
    "def chi_32_imag_integrand(gamma, theta_e, omratio):\n",
    "    beta = np.sqrt(1. - 1./gamma**2.)\n",
    "    dist = np.exp(-gamma/theta_e) / (4. * np.pi * theta_e**2. * special.kn(2, 1./theta_e))\n",
    "    gam_term = dist * gamma**3. * beta**3.\n",
    "    ans = gam_term * chi_32_imag_spline(gamma, omratio)[0]\n",
    "    return ans\n",
    "\n",
    "def chi_33_imag_integrand(gamma, theta_e, omratio):\n",
    "    beta = np.sqrt(1. - 1./gamma**2.)\n",
    "    dist = np.exp(-gamma/theta_e) / (4. * np.pi * theta_e**2. * special.kn(2, 1./theta_e))\n",
    "    gam_term = dist * gamma**3. * beta**3.\n",
    "    ans = gam_term * chi_33_imag_spline(gamma, omratio)[0]\n",
    "    return ans"
   ]
  },
  {
   "cell_type": "code",
   "execution_count": 8,
   "metadata": {
    "collapsed": false
   },
   "outputs": [],
   "source": [
    "#susceptibility tensor components\n",
    "def chi_11_real(theta_e, omega):\n",
    "    prefactor = 2. * np.pi * omega_p*omega_p / (omega * omega);\n",
    "    ans = quad(lambda gamma: np.vectorize(chi_11_real_integrand)(gamma, theta_e, omega / omega_c), \n",
    "               1., 150.)[0] * prefactor\n",
    "    return ans\n",
    "\n",
    "def chi_12_real(theta_e, omega):\n",
    "    prefactor = 2. * np.pi * omega_p*omega_p / (omega * omega);\n",
    "    ans = quad(lambda gamma: np.vectorize(chi_12_real_integrand)(gamma, theta_e, omega / omega_c), \n",
    "               1., 150.)[0] * prefactor\n",
    "    return ans\n",
    "\n",
    "def chi_13_real(theta_e, omega):\n",
    "    prefactor = 2. * np.pi * omega_p*omega_p / (omega * omega);\n",
    "    ans = quad(lambda gamma: np.vectorize(chi_13_real_integrand)(gamma, theta_e, omega / omega_c), \n",
    "               1., 150.)[0] * prefactor\n",
    "    return ans\n",
    "\n",
    "def chi_22_real(theta_e, omega):\n",
    "    prefactor = 2. * np.pi * omega_p*omega_p / (omega * omega);\n",
    "    ans = quad(lambda gamma: np.vectorize(chi_22_real_integrand)(gamma, theta_e, omega / omega_c), \n",
    "               1., 150.)[0] * prefactor\n",
    "    return ans\n",
    "\n",
    "def chi_32_real(theta_e, omega):\n",
    "    prefactor = 2. * np.pi * omega_p*omega_p / (omega * omega);\n",
    "    ans = quad(lambda gamma: np.vectorize(chi_32_real_integrand)(gamma, theta_e, omega / omega_c), \n",
    "               1., 150.)[0] * prefactor\n",
    "    return ans\n",
    "\n",
    "def chi_33_real(theta_e, omega):\n",
    "    prefactor = 2. * np.pi * omega_p*omega_p / (omega * omega);\n",
    "    ans = quad(lambda gamma: np.vectorize(chi_33_real_integrand)(gamma, theta_e, omega / omega_c), \n",
    "               1., 150.)[0] * prefactor\n",
    "    return ans"
   ]
  },
  {
   "cell_type": "code",
   "execution_count": 14,
   "metadata": {
    "collapsed": false
   },
   "outputs": [
    {
     "name": "stdout",
     "output_type": "stream",
     "text": [
      "-6.8964752894e-07\n"
     ]
    }
   ],
   "source": [
    "print chi_33_real(10., omega_c)"
   ]
  },
  {
   "cell_type": "code",
   "execution_count": null,
   "metadata": {
    "collapsed": true
   },
   "outputs": [],
   "source": []
  },
  {
   "cell_type": "markdown",
   "metadata": {},
   "source": []
  }
 ],
 "metadata": {
  "kernelspec": {
   "display_name": "Python 2",
   "language": "python",
   "name": "python2"
  },
  "language_info": {
   "codemirror_mode": {
    "name": "ipython",
    "version": 2
   },
   "file_extension": ".py",
   "mimetype": "text/x-python",
   "name": "python",
   "nbconvert_exporter": "python",
   "pygments_lexer": "ipython2",
   "version": "2.7.12"
  }
 },
 "nbformat": 4,
 "nbformat_minor": 2
}
