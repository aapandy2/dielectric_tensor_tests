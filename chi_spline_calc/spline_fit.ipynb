{
 "cells": [
  {
   "cell_type": "code",
   "execution_count": 7,
   "metadata": {
    "collapsed": true
   },
   "outputs": [],
   "source": [
    "%matplotlib inline\n",
    "import numpy as np\n",
    "import pylab as pl\n",
    "from scipy.interpolate import interp2d\n",
    "import scipy.special as special\n",
    "from scipy.integrate import quad\n",
    "\n",
    "# Set plot parameters to make beautiful plots\n",
    "pl.rcParams['figure.figsize']  = 12, 7.5\n",
    "pl.rcParams['lines.linewidth'] = 1.5\n",
    "pl.rcParams['font.family']     = 'serif'\n",
    "pl.rcParams['font.weight']     = 'bold'\n",
    "pl.rcParams['font.size']       = 20  \n",
    "pl.rcParams['font.sans-serif'] = 'serif'\n",
    "pl.rcParams['text.usetex']     = True\n",
    "pl.rcParams['axes.linewidth']  = 1.5\n",
    "pl.rcParams['axes.titlesize']  = 'medium'\n",
    "pl.rcParams['axes.labelsize']  = 'large'\n",
    "\n",
    "pl.rcParams['xtick.major.size'] = 8     \n",
    "pl.rcParams['xtick.minor.size'] = 4     \n",
    "pl.rcParams['xtick.major.pad']  = 8     \n",
    "pl.rcParams['xtick.minor.pad']  = 8     \n",
    "pl.rcParams['xtick.color']      = 'k'     \n",
    "pl.rcParams['xtick.labelsize']  = 'large'\n",
    "pl.rcParams['xtick.direction']  = 'in'    \n",
    "\n",
    "pl.rcParams['ytick.major.size'] = 8     \n",
    "pl.rcParams['ytick.minor.size'] = 4     \n",
    "pl.rcParams['ytick.major.pad']  = 8     \n",
    "pl.rcParams['ytick.minor.pad']  = 8     \n",
    "pl.rcParams['ytick.color']      = 'k'     \n",
    "pl.rcParams['ytick.labelsize']  = 'large'\n",
    "pl.rcParams['ytick.direction']  = 'in'"
   ]
  },
  {
   "cell_type": "code",
   "execution_count": 8,
   "metadata": {
    "collapsed": true
   },
   "outputs": [],
   "source": [
    "#load datafiles\n",
    "chi_11_real_data = np.loadtxt('chi_11_real_step_5.txt')\n",
    "chi_11_imag_data = np.loadtxt('chi_11_imag_step_5.txt')\n",
    "\n",
    "chi_12_real_data = np.loadtxt('chi_12_real_step_5.txt')\n",
    "chi_12_imag_data = np.loadtxt('chi_12_imag_step_5.txt')\n",
    "\n",
    "chi_13_real_data = np.loadtxt('chi_13_real_step_5.txt')\n",
    "chi_13_imag_data = np.loadtxt('chi_13_imag_step_5.txt')\n",
    "\n",
    "chi_22_real_data = np.loadtxt('chi_22_real_step_5.txt')\n",
    "chi_22_imag_data = np.loadtxt('chi_22_imag_step_5.txt')\n",
    "\n",
    "chi_32_real_data = np.loadtxt('chi_32_real_step_5.txt')\n",
    "chi_32_imag_data = np.loadtxt('chi_32_imag_step_5.txt')\n",
    "\n",
    "chi_33_real_data = np.loadtxt('chi_33_real_step_5.txt')\n",
    "chi_33_imag_data = np.loadtxt('chi_33_imag_step_5.txt')"
   ]
  },
  {
   "cell_type": "code",
   "execution_count": 9,
   "metadata": {
    "collapsed": false
   },
   "outputs": [],
   "source": [
    "#generate spline fits\n",
    "\n",
    "start = 1.\n",
    "end   = 1000.\n",
    "step  = 5.\n",
    "\n",
    "gam   = np.arange(start, end, step)\n",
    "omrat = np.arange(start, end, step)\n",
    "\n",
    "chi_11_real_spline = interp2d(gam, omrat, chi_11_real_data)\n",
    "chi_11_imag_spline = interp2d(gam, omrat, chi_11_imag_data)\n",
    "\n",
    "chi_12_real_spline = interp2d(gam, omrat, chi_12_real_data)\n",
    "chi_12_imag_spline = interp2d(gam, omrat, chi_12_imag_data)\n",
    "\n",
    "chi_13_real_spline = interp2d(gam, omrat, chi_13_real_data)\n",
    "chi_13_imag_spline = interp2d(gam, omrat, chi_13_imag_data)\n",
    "\n",
    "chi_22_real_spline = interp2d(gam, omrat, chi_22_real_data)\n",
    "chi_22_imag_spline = interp2d(gam, omrat, chi_22_imag_data)\n",
    "\n",
    "chi_32_real_spline = interp2d(gam, omrat, chi_32_real_data)\n",
    "chi_32_imag_spline = interp2d(gam, omrat, chi_32_imag_data)\n",
    "\n",
    "chi_33_real_spline = interp2d(gam, omrat, chi_33_real_data)\n",
    "chi_33_imag_spline = interp2d(gam, omrat, chi_33_imag_data)"
   ]
  },
  {
   "cell_type": "code",
   "execution_count": 10,
   "metadata": {
    "collapsed": false
   },
   "outputs": [],
   "source": [
    "epsilon0  = 1./(4. * np.pi)\n",
    "e         = 4.80320680e-10\n",
    "m         = 9.1093826e-28\n",
    "c         = 2.99792458e10\n",
    "epsilon   = -1.\n",
    "\n",
    "n_e     = 1.\n",
    "B       = 1.          \n",
    "theta   = np.pi/3.   \n",
    "omega_p = np.sqrt(n_e * e*e / (m * epsilon0))    \n",
    "omega_c = e * B / (m * c)\n",
    "\n",
    "#omega   = 1. * omega_c\n",
    "\n",
    "#theta_e = 10.\n",
    "\n",
    "p = 3.\n",
    "gamma_min = 1.\n",
    "gamma_max = 1000."
   ]
  },
  {
   "cell_type": "code",
   "execution_count": 28,
   "metadata": {
    "collapsed": false
   },
   "outputs": [],
   "source": [
    "#integrands\n",
    "\n",
    "def chi_ij_integrand(gamma, theta_e, omratio, dist_func, component, real):\n",
    "    beta = np.sqrt(1. - 1./gamma**2.)\n",
    "    \n",
    "    if(dist_func == 0):\n",
    "        dist = np.exp(-gamma/theta_e) / (4. * np.pi * theta_e**2. * special.kn(2, 1./theta_e))\n",
    "    elif(dist_func == 1):\n",
    "        dist = ( (p - 1.) * (-1 + 2. * gamma**2. + p * (gamma**2. - 1.))\n",
    "                / (4. * np.pi * (gamma_min**(-1. - p) \n",
    "                - gamma_max**(-1. - p)) * beta * (gamma**2. - 1.)) \n",
    "                * gamma**(-3. - p) )\n",
    "        \n",
    "    gam_term = dist * gamma**3. * beta**3.\n",
    "    \n",
    "    if(real == 1):\n",
    "        if(component == 11):\n",
    "            spline_term = chi_11_real_spline(gamma, omratio)[0]\n",
    "        elif(component == 12):\n",
    "            spline_term = chi_12_real_spline(gamma, omratio)[0]\n",
    "        elif(component == 13):\n",
    "            spline_term = chi_13_real_spline(gamma, omratio)[0]\n",
    "        elif(component == 22):\n",
    "            spline_term = chi_22_real_spline(gamma, omratio)[0]\n",
    "        elif(component == 32):\n",
    "            spline_term = chi_32_real_spline(gamma, omratio)[0]\n",
    "        elif(component == 33):\n",
    "            spline_term = chi_33_real_spline(gamma, omratio)[0]\n",
    "    else:\n",
    "        if(component == 11):\n",
    "            spline_term = chi_11_imag_spline(gamma, omratio)[0]\n",
    "        elif(component == 12):\n",
    "            spline_term = chi_12_imag_spline(gamma, omratio)[0]\n",
    "        elif(component == 13):\n",
    "            spline_term = chi_13_imag_spline(gamma, omratio)[0]\n",
    "        elif(component == 22):\n",
    "            spline_term = chi_22_imag_spline(gamma, omratio)[0]\n",
    "        elif(component == 32):\n",
    "            spline_term = chi_32_imag_spline(gamma, omratio)[0]\n",
    "        elif(component == 33):\n",
    "            spline_term = chi_33_imag_spline(gamma, omratio)[0]\n",
    "    \n",
    "    ans = gam_term * spline_term\n",
    "    return ans"
   ]
  },
  {
   "cell_type": "code",
   "execution_count": 73,
   "metadata": {
    "collapsed": false
   },
   "outputs": [
    {
     "name": "stdout",
     "output_type": "stream",
     "text": [
      "2.16618026354\n",
      "1.40938401786\n"
     ]
    }
   ],
   "source": [
    "print chi_ij_integrand(10., 10., omega_c, 1, 11, 1) / -1.222036e-04\n",
    "print chi_ij_integrand(5., 10., omega_c, 1, 11, 1) / -1.500687e-03"
   ]
  },
  {
   "cell_type": "code",
   "execution_count": 38,
   "metadata": {
    "collapsed": false
   },
   "outputs": [],
   "source": [
    "def chi_ij(theta_e, omega, dist_func, component, real):\n",
    "    prefactor = 2. * np.pi * omega_p*omega_p / (omega * omega)\n",
    "    ans = quad(lambda gamma: np.vectorize(chi_ij_integrand)(gamma, theta_e, omega / omega_c, \n",
    "                                                                 dist_func, component, real), \n",
    "               1., 1000)[0] * prefactor\n",
    "    return ans"
   ]
  },
  {
   "cell_type": "code",
   "execution_count": 39,
   "metadata": {
    "collapsed": false
   },
   "outputs": [],
   "source": [
    "def alpha_I(theta_e, omega, dist_func):\n",
    "    prefactor = 2. * np.pi * epsilon0 * omega / c\n",
    "    ans = ( chi_ij(theta_e, omega, dist_func, 11, 0) * np.cos(theta)**2. \n",
    "           + chi_ij(theta_e, omega, dist_func, 33, 0) * np.sin(theta)**2.\n",
    "           - 2. * chi_ij(theta_e, omega, dist_func, 13, 0) * np.sin(theta) * np.cos(theta) \n",
    "           + chi_ij(theta_e, omega, dist_func, 22, 0))\n",
    "    return prefactor * ans\n",
    "\n",
    "def alpha_Q(theta_e, omega, dist_func):\n",
    "    prefactor = 2. * np.pi * epsilon0 * omega / c\n",
    "    ans = ( chi_ij(theta_e, omega, dist_func, 11, 0) * np.cos(theta)**2. \n",
    "           + chi_ij(theta_e, omega, dist_func, 33, 0) * np.sin(theta)**2.\n",
    "           - 2. * chi_ij(theta_e, omega, dist_func, 13, 0) * np.sin(theta) * np.cos(theta) \n",
    "           - chi_ij(theta_e, omega, dist_func, 22, 0))\n",
    "    return prefactor * ans\n",
    "\n",
    "def alpha_V(theta_e, omega, dist_func):\n",
    "    prefactor = 4. * np.pi * epsilon0 * omega / c\n",
    "    ans = ( chi_ij(theta_e, omega, dist_func, 12, 1) * np.cos(theta) \n",
    "           - chi_ij(theta_e, omega, dist_func, 32, 1) * np.sin(theta) )\n",
    "    return prefactor * ans"
   ]
  },
  {
   "cell_type": "code",
   "execution_count": 67,
   "metadata": {
    "collapsed": false
   },
   "outputs": [
    {
     "name": "stdout",
     "output_type": "stream",
     "text": [
      "-6.01879584912e-10\n"
     ]
    }
   ],
   "source": [
    "#print chi_ij_integrand(10., 10., 1. * omega_c, 0, 11, 1)\n",
    "print chi_ij(10., 50.*omega_c, 1, 11, 1)"
   ]
  },
  {
   "cell_type": "code",
   "execution_count": 68,
   "metadata": {
    "collapsed": false
   },
   "outputs": [
    {
     "name": "stdout",
     "output_type": "stream",
     "text": [
      "0.15926602151\n",
      "0.157292258069\n",
      "0.156163801265\n",
      "0.159130325498\n"
     ]
    }
   ],
   "source": [
    "print -1.50643980243e-10 / -9.458639e-10\n",
    "print -3.73383350756e-11 / -2.373819e-10\n",
    "print -1.65461169337e-11 / -1.059536e-10\n",
    "print -6.01879584912e-10 / -3.782306e-09"
   ]
  },
  {
   "cell_type": "code",
   "execution_count": null,
   "metadata": {
    "collapsed": true
   },
   "outputs": [],
   "source": []
  }
 ],
 "metadata": {
  "kernelspec": {
   "display_name": "Python 2",
   "language": "python",
   "name": "python2"
  },
  "language_info": {
   "codemirror_mode": {
    "name": "ipython",
    "version": 2
   },
   "file_extension": ".py",
   "mimetype": "text/x-python",
   "name": "python",
   "nbconvert_exporter": "python",
   "pygments_lexer": "ipython2",
   "version": "2.7.12"
  }
 },
 "nbformat": 4,
 "nbformat_minor": 2
}
