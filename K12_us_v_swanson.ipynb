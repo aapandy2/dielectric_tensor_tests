{
 "cells": [
  {
   "cell_type": "code",
   "execution_count": 1,
   "metadata": {
    "collapsed": true
   },
   "outputs": [],
   "source": [
    "%matplotlib inline\n",
    "import numpy as np\n",
    "import pylab as pl\n",
    "import scipy.special as special\n",
    "from scipy.integrate import quad\n",
    "\n",
    "# Set plot parameters to make beautiful plots\n",
    "pl.rcParams['figure.figsize']  = 12, 7.5\n",
    "pl.rcParams['lines.linewidth'] = 1.5\n",
    "pl.rcParams['font.family']     = 'serif'\n",
    "pl.rcParams['font.weight']     = 'bold'\n",
    "pl.rcParams['font.size']       = 20  \n",
    "pl.rcParams['font.sans-serif'] = 'serif'\n",
    "pl.rcParams['text.usetex']     = True\n",
    "pl.rcParams['axes.linewidth']  = 1.5\n",
    "pl.rcParams['axes.titlesize']  = 'medium'\n",
    "pl.rcParams['axes.labelsize']  = 'large'\n",
    "\n",
    "pl.rcParams['xtick.major.size'] = 8     \n",
    "pl.rcParams['xtick.minor.size'] = 4     \n",
    "pl.rcParams['xtick.major.pad']  = 8     \n",
    "pl.rcParams['xtick.minor.pad']  = 8     \n",
    "pl.rcParams['xtick.color']      = 'k'     \n",
    "pl.rcParams['xtick.labelsize']  = 'large'\n",
    "pl.rcParams['xtick.direction']  = 'in'    \n",
    "\n",
    "pl.rcParams['ytick.major.size'] = 8     \n",
    "pl.rcParams['ytick.minor.size'] = 4     \n",
    "pl.rcParams['ytick.major.pad']  = 8     \n",
    "pl.rcParams['ytick.minor.pad']  = 8     \n",
    "pl.rcParams['ytick.color']      = 'k'     \n",
    "pl.rcParams['ytick.labelsize']  = 'large'\n",
    "pl.rcParams['ytick.direction']  = 'in'"
   ]
  },
  {
   "cell_type": "code",
   "execution_count": 2,
   "metadata": {
    "collapsed": true
   },
   "outputs": [],
   "source": [
    "# EVERYTHING IS 1 units; NOT SURE IF THESE ARE INTERNALLY CONSISTENT\n",
    "\n",
    "#constants\n",
    "e        = 1.     #electron charge\n",
    "m        = 1.     #electron mass\n",
    "c        = 1.     #speed of light\n",
    "epsilon0 = 1.     #permittivity of free space\n",
    "epsilon  = -1.    #sign of electron charge\n",
    "\n",
    "#parameters\n",
    "B     = 1.         #background B strength\n",
    "n_e   = 1.         #electron number density cm^-3\n",
    "w_T   = 1.        #dimensionless electron temp. k_B T / m c^2\n",
    "#w_T   = 134071263.046\n",
    "theta = np.pi / 3. #observer angle\n",
    "\n",
    "#derived quantities\n",
    "omega_p = np.sqrt(n_e * e**2. / (m * epsilon0))     # plasma frequency    (=1 in these units)\n",
    "omega_c = e * B / (m * c)                           # cyclotron frequency (=1 in these units)"
   ]
  },
  {
   "cell_type": "code",
   "execution_count": 88,
   "metadata": {
    "collapsed": false
   },
   "outputs": [
    {
     "name": "stdout",
     "output_type": "stream",
     "text": [
      "(3.01925993074e-05-2.42240556651e-05j)\n",
      "(3.01925993074e-05-2.42240556651e-05j)\n"
     ]
    }
   ],
   "source": [
    "#OUR FORMULATION OF THE NR MAXWELLIAN K_12\n",
    "\n",
    "def K_12_integral(tau, omega):\n",
    "    k_perp = omega / c * np.sin(theta)                  # wavevector perp component n = 1 approximation\n",
    "    k_z    = omega / c * np.cos(theta)                  # wavevector parallel comp. n = 1 approximation\n",
    "    lambd  = k_perp**2. * w_T**2. / (2. * omega_c**2.)  # just a defined parameter\n",
    "    term1 = -2. * 1j * omega_p**2. / omega\n",
    "    term2 = np.sin(epsilon * omega_c * tau) * np.exp(1j * omega * tau)\n",
    "    term3 = (lambd * np.sin(epsilon * omega_c * tau / 2.)**2. - 1./2.)\n",
    "    term4 = np.exp(-2. * lambd * np.sin(epsilon * omega_c * tau / 2.)**2.)\n",
    "    term5 = np.exp(-w_T**2. * k_z**2. * tau**2. / 4.)\n",
    "    ans = term1 * term2 * term3 * term4 * term5\n",
    "    return ans\n",
    "\n",
    "#uses a nondimensionalized version of the integrand\n",
    "def K_12_integral_scaled(tau, omega):\n",
    "    k_perp = omega / c * np.sin(theta)                  # wavevector perp component n = 1 approximation\n",
    "    k_z    = omega / c * np.cos(theta)                  # wavevector parallel comp. n = 1 approximation\n",
    "    lambd  = k_perp**2. * w_T**2. / (2. * omega_c**2.)  # just a defined parameter\n",
    "    term1 = -2. * 1j * omega_p**2. / omega / omega_c     #NOTE: before was -1 * this, but corrected error in deriv.\n",
    "    term2 = np.sin(epsilon * 1. * tau) * np.exp(1j * omega * tau / omega_c)\n",
    "    term3 = (lambd * np.sin(epsilon * 1. * tau / 2.)**2. - 1./2.)\n",
    "    term4 = np.exp(-2. * lambd * np.sin(epsilon * 1. * tau / 2.)**2.)\n",
    "    term5 = np.exp(-w_T**2. * k_z**2. * tau**2. / 4. / omega_c**2.)\n",
    "    ans = term1 * term2 * term3 * term4 * term5\n",
    "    return ans\n",
    "\n",
    "def K_12_ours_scaled(omega):\n",
    "    real_part = quad(lambda tau: K_12_integral_scaled(tau, omega).real, 0., np.inf)\n",
    "    imag_part = quad(lambda tau: K_12_integral_scaled(tau, omega).imag, 0., np.inf)\n",
    "    ans = real_part[0] + imag_part[0] * 1j\n",
    "    return ans\n",
    "\n",
    "def K_12_ours(omega):\n",
    "    real_part = quad(lambda tau: K_12_integral(tau, omega).real, 0., np.inf)\n",
    "    imag_part = quad(lambda tau: K_12_integral(tau, omega).imag, 0., np.inf)\n",
    "    ans = real_part[0] + imag_part[0] * 1j\n",
    "    return ans\n",
    "\n",
    "omega = np.linspace(0.51, 4.51, 100)\n",
    "\n",
    "def CPL(omega): #COLD PLASMA LIMIT\n",
    "    ans = 1j * omega_c * omega_p**2. / (omega * (omega_c**2. - omega**2.))\n",
    "    return ans\n",
    "\n",
    "print K_12_ours(30.)\n",
    "print K_12_ours_scaled(30.)"
   ]
  },
  {
   "cell_type": "code",
   "execution_count": 90,
   "metadata": {
    "collapsed": false
   },
   "outputs": [
    {
     "name": "stdout",
     "output_type": "stream",
     "text": [
      "(3.0192599307395053e-05-2.4227177539464392e-05j)\n"
     ]
    }
   ],
   "source": [
    "#SWANSON'S VERSION OF THE NR MAXWELLIAN K_12\n",
    "\n",
    "#we first need the plasma dispersion function\n",
    "def Z_integrand(xi, zeta):\n",
    "    prefactor   = 1. / np.sqrt(np.pi)\n",
    "    numerator   = np.exp(-xi**2.)\n",
    "    \n",
    "#    denominator = xi - zeta  #included in quad with weight type 'cauchy' passed to quad\n",
    "    denominator = 1.\n",
    "    \n",
    "    return prefactor * numerator / denominator\n",
    "\n",
    "\n",
    "#seems to work up to |zeta| = 625 where it's approx. -/+ 0.002 (so negative zeta yields +0.002)\n",
    "def Z(zeta): \n",
    "    if(np.abs(zeta) < 2.):\n",
    "        int_limit = 10. * np.abs(zeta)\n",
    "    elif(np.abs(zeta) > 2. and np.abs(zeta) < 130.):\n",
    "        int_limit = 2. * np.abs(zeta)\n",
    "    else:\n",
    "        int_limit = 1.5 * np.abs(zeta)\n",
    "    \n",
    "    imag_part = 1j * np.pi * Z_integrand(zeta, zeta)\n",
    "    \n",
    "    if(zeta != 0):\n",
    "        ans = quad(lambda xi: Z_integrand(xi, zeta), -int_limit, int_limit, weight='cauchy', wvar=zeta)[0]\n",
    "    else:\n",
    "        ans = 0.\n",
    "        \n",
    "    return ans + imag_part\n",
    "\n",
    "def K_12_summand(n, omega):\n",
    "    k_perp = omega / c * np.sin(theta)                  # wavevector perp component n = 1 approximation\n",
    "    k_z    = omega / c * np.cos(theta)                  # wavevector parallel comp. n = 1 approximation\n",
    "    lambd   = k_perp**2. * w_T**2. / (2. * omega_c**2.) # just a defined parameter\n",
    "    prefactor = 1j * epsilon * omega_p**2. * np.exp(-lambd) / (omega * k_z * w_T)\n",
    "    zeta = (omega + n * omega_c) / (k_z * w_T)\n",
    "    \n",
    "    if(np.abs(zeta) > 625):\n",
    "        print 'zeta out of range of PDF'\n",
    "    \n",
    "    term1 = n * (special.iv(n, lambd) - special.ivp(n, lambd)) * Z(zeta)\n",
    "    ans = prefactor * term1\n",
    "    return ans\n",
    "\n",
    "def K_12_swanson(terms, omega):\n",
    "    ans = 0.\n",
    "    for i in range(-terms, terms):\n",
    "        ans += K_12_summand(i, omega)\n",
    "    return ans\n",
    "\n",
    "\n",
    "#print K_12(number of sum terms evaluated, omega)\n",
    "print K_12_swanson(100, 30.0)"
   ]
  },
  {
   "cell_type": "code",
   "execution_count": 87,
   "metadata": {
    "collapsed": false
   },
   "outputs": [
    {
     "name": "stdout",
     "output_type": "stream",
     "text": [
      "scipy: 115513961.922158 AP: 115513961.92215806 error: -5.159951557678951e-16\n",
      "scipy: 112729199.13777554 AP 112729199.13777553 error: 1.3218546133407489e-16\n"
     ]
    }
   ],
   "source": [
    "#seems to work\n",
    "def AP_iv(n, x):\n",
    "    ans = 1j**(-alpha) * special.jv(alpha, 1j*x)\n",
    "    return np.real(ans)\n",
    "\n",
    "#seems to work for integer n\n",
    "def AP_ivp(n, x):   \n",
    "    ans = 1j**(alpha + 1.) * special.jvp(alpha, 1j*x)\n",
    "    \n",
    "    #this factor probably comes from the derivative of the Bessel function\n",
    "    #I didn't check, please check for me\n",
    "    if(n % 2 != 0):\n",
    "        ans = ans * -1.\n",
    "    \n",
    "    return np.real(ans)\n",
    "\n",
    "alpha = 0.\n",
    "x = 21.\n",
    "print 'scipy:', special.iv(alpha, x), 'AP:', AP_iv(alpha, x), 'error:', (special.iv(alpha, x) - AP_iv(alpha, x))/special.iv(alpha, x)\n",
    "\n",
    "print 'scipy:', special.ivp(alpha, x), 'AP', AP_ivp(alpha, x), 'error:', (special.ivp(alpha, x) - AP_ivp(alpha, x))/special.ivp(alpha, x)"
   ]
  },
  {
   "cell_type": "code",
   "execution_count": null,
   "metadata": {
    "collapsed": true
   },
   "outputs": [],
   "source": []
  }
 ],
 "metadata": {
  "kernelspec": {
   "display_name": "Python 2",
   "language": "python",
   "name": "python2"
  },
  "language_info": {
   "codemirror_mode": {
    "name": "ipython",
    "version": 2
   },
   "file_extension": ".py",
   "mimetype": "text/x-python",
   "name": "python",
   "nbconvert_exporter": "python",
   "pygments_lexer": "ipython2",
   "version": "2.7.12"
  }
 },
 "nbformat": 4,
 "nbformat_minor": 2
}
