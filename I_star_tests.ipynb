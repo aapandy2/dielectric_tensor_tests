{
 "cells": [
  {
   "cell_type": "code",
   "execution_count": 1,
   "metadata": {
    "collapsed": true
   },
   "outputs": [],
   "source": [
    "%matplotlib inline\n",
    "import numpy as np\n",
    "import pylab as pl\n",
    "import time\n",
    "import scipy.special as special\n",
    "from scipy.integrate import quad, dblquad, fixed_quad\n",
    "\n",
    "# Set plot parameters to make beautiful plots\n",
    "pl.rcParams['figure.figsize']  = 12, 7.5\n",
    "pl.rcParams['lines.linewidth'] = 1.5\n",
    "pl.rcParams['font.family']     = 'serif'\n",
    "pl.rcParams['font.weight']     = 'bold'\n",
    "pl.rcParams['font.size']       = 20  \n",
    "pl.rcParams['font.sans-serif'] = 'serif'\n",
    "pl.rcParams['text.usetex']     = True\n",
    "pl.rcParams['axes.linewidth']  = 1.5\n",
    "pl.rcParams['axes.titlesize']  = 'medium'\n",
    "pl.rcParams['axes.labelsize']  = 'large'\n",
    "\n",
    "pl.rcParams['xtick.major.size'] = 8     \n",
    "pl.rcParams['xtick.minor.size'] = 4     \n",
    "pl.rcParams['xtick.major.pad']  = 8     \n",
    "pl.rcParams['xtick.minor.pad']  = 8     \n",
    "pl.rcParams['xtick.color']      = 'k'     \n",
    "pl.rcParams['xtick.labelsize']  = 'large'\n",
    "pl.rcParams['xtick.direction']  = 'in'    \n",
    "\n",
    "pl.rcParams['ytick.major.size'] = 8     \n",
    "pl.rcParams['ytick.minor.size'] = 4     \n",
    "pl.rcParams['ytick.major.pad']  = 8     \n",
    "pl.rcParams['ytick.minor.pad']  = 8     \n",
    "pl.rcParams['ytick.color']      = 'k'     \n",
    "pl.rcParams['ytick.labelsize']  = 'large'\n",
    "pl.rcParams['ytick.direction']  = 'in'"
   ]
  },
  {
   "cell_type": "code",
   "execution_count": 2,
   "metadata": {
    "collapsed": false
   },
   "outputs": [
    {
     "name": "stdout",
     "output_type": "stream",
     "text": [
      "-0.0676714314003\n",
      "-0.0676714314003\n"
     ]
    }
   ],
   "source": [
    "#testing I_star(0)\n",
    "\n",
    "def I_star_integrand(x, alpha, delta):\n",
    "    ans = np.cos(alpha * x) * special.j0(delta * np.sqrt(1. - x**2.))\n",
    "    return ans\n",
    "\n",
    "def I_star_analytic(alpha, delta):\n",
    "    A     = np.sqrt(alpha**2. + delta**2.)\n",
    "    term1 = np.sin(alpha) / alpha\n",
    "    num   = -A * np.sin(alpha) + alpha * np.sin(A)\n",
    "    denom = A * np.sqrt(A - alpha) * np.sqrt(A + alpha)\n",
    "    term2 = delta / alpha * num / denom\n",
    "    ans   = term1 + term2\n",
    "    return ans\n",
    "\n",
    "alpha = 1.1231\n",
    "delta = 10.12312\n",
    "\n",
    "print quad(lambda x: I_star_integrand(x, alpha, delta), 0., 1.)[0]\n",
    "\n",
    "print I_star_analytic(alpha, delta)"
   ]
  },
  {
   "cell_type": "code",
   "execution_count": 3,
   "metadata": {
    "collapsed": false
   },
   "outputs": [
    {
     "name": "stdout",
     "output_type": "stream",
     "text": [
      "0.00527801500735\n",
      "0.00527801500735\n"
     ]
    }
   ],
   "source": [
    "#testing I_3(0)\n",
    "\n",
    "def I_3_integrand(x, alpha, delta):\n",
    "    ans = x**2. * np.cos(alpha * x) * special.j0(delta * np.sqrt(1. - x**2.))\n",
    "    return ans\n",
    "\n",
    "def I_3_analytic(alpha, delta):\n",
    "    A     = np.sqrt(alpha**2. + delta**2.)\n",
    "    plus  = np.sqrt(A + alpha)\n",
    "    minus = np.sqrt(A - alpha)\n",
    "    num   = (2. * alpha * A**5. * (delta - minus * plus) * np.cos(alpha)\n",
    "             - alpha**3. * delta * (2. * alpha**2. - delta**2.) * A * np.cos(A)\n",
    "             - 2. * alpha**4. * delta * A * np.sin(alpha)\n",
    "             + alpha**6. * delta * A * np.sin(alpha)\n",
    "             - 4. * alpha**2. * delta**3. * A * np.sin(alpha)\n",
    "             + 2. * alpha**4. * delta**3. * A * np.sin(alpha)\n",
    "             - 2. * delta**5. * A * np.sin(alpha)\n",
    "             + alpha**2. * delta**5. * A * np.sin(alpha)\n",
    "             + 2. * alpha**4. * A * minus * plus * np.sin(alpha)\n",
    "             - alpha**6. * A * minus * plus * np.sin(alpha)\n",
    "             + 4. * alpha**2. * delta**2. * A * minus * plus * np.sin(alpha)\n",
    "             - 2. * alpha**4. * delta**2. * A * minus * plus * np.sin(alpha)\n",
    "             + 2. * delta**4. * A * minus * plus * np.sin(alpha)\n",
    "             - alpha**2. * delta**4. * A * minus * plus * np.sin(alpha)\n",
    "             + 2. * alpha**5. * delta * np.sin(A)\n",
    "             - alpha**7. * delta * np.sin(A)\n",
    "             - alpha**3. * delta**3. * np.sin(A)\n",
    "             - alpha**5. * delta**3. * np.sin(A)\n",
    "    )\n",
    "    denom = alpha**3. * A**5. * minus**7. * plus**7.\n",
    "    ans = delta**6. * num / denom\n",
    "    return ans * -1. #why am I off by a factor of -1?\n",
    "\n",
    "print quad(lambda x: I_3_integrand(x, alpha, delta), 0., 1.)[0]\n",
    "print I_3_analytic(alpha, delta)"
   ]
  },
  {
   "cell_type": "code",
   "execution_count": 4,
   "metadata": {
    "collapsed": false
   },
   "outputs": [
    {
     "name": "stdout",
     "output_type": "stream",
     "text": [
      "0.0720965444146\n",
      "0.0720965444146\n"
     ]
    }
   ],
   "source": [
    "#testing I_star(1)\n",
    "\n",
    "def I_star_integrand1(x, alpha, delta):\n",
    "    ans = np.cos(alpha * x) * special.jn(1, delta * np.sqrt(1. - x**2.))\n",
    "    return ans\n",
    "\n",
    "def I_star_analytic1(alpha, delta):\n",
    "    plus  = np.sqrt(np.sqrt(alpha**2. + delta**2.) + alpha)\n",
    "    minus = np.sqrt(np.sqrt(alpha**2. + delta**2.) - alpha)\n",
    "    term1 = delta * np.pi / 4.\n",
    "    num   = (special.j0(1./2. * plus**2.) * special.jn(1, 1./2. * minus**2.)\n",
    "            + special.j0(1./2. * minus**2.) * special.jn(1, 1./2. * plus**2.))\n",
    "    denom = np.sqrt(alpha**2. + delta**2.)\n",
    "    ans   = term1 * num / denom\n",
    "    return ans\n",
    "\n",
    "print quad(lambda x: I_star_integrand1(x, alpha, delta), 0., 1.)[0]\n",
    "print I_star_analytic1(alpha, delta)"
   ]
  },
  {
   "cell_type": "code",
   "execution_count": 5,
   "metadata": {
    "collapsed": false
   },
   "outputs": [
    {
     "name": "stdout",
     "output_type": "stream",
     "text": [
      "-0.0174996504633\n",
      "-0.0174996504633\n"
     ]
    }
   ],
   "source": [
    "#calculate first derivative of I_star(1)\n",
    "def Istar1_firstderiv(alpha, delta):\n",
    "    A          = np.sqrt(alpha**2. + delta**2.)\n",
    "    plus       = A + alpha\n",
    "    minus      = A - alpha\n",
    "    prefactor  = delta * np.pi / 4. * 1./A**3.\n",
    "    term1      = special.j0(1./2. * minus) * (alpha * A * special.j0(1./2. * plus) \n",
    "                                             - plus * special.jn(1, 1./2. * plus))\n",
    "    term2num   = special.jn(1, 1./2. * minus) * (delta**2. * special.j0(1./2. * plus) \n",
    "                                               - alpha * (delta**2. + alpha * plus) * special.jn(1, 1./2. * plus))\n",
    "    term2denom = plus\n",
    "    ans        = prefactor * (term1 + term2num/term2denom)\n",
    "    return ans\n",
    "\n",
    "def Istar1_firstderiv_integrand(x, alpha, delta):\n",
    "    ans = - x * np.sin(alpha * x) * special.jn(1, delta * np.sqrt(1. - x**2.))\n",
    "    return ans\n",
    "\n",
    "print quad(lambda x: Istar1_firstderiv_integrand(x, alpha, delta), 0., 1.)[0]\n",
    "print Istar1_firstderiv(alpha, delta)"
   ]
  },
  {
   "cell_type": "code",
   "execution_count": 6,
   "metadata": {
    "collapsed": false
   },
   "outputs": [
    {
     "name": "stdout",
     "output_type": "stream",
     "text": [
      "0.0077745698208\n",
      "0.00777456982085\n"
     ]
    }
   ],
   "source": [
    "#calculate third derivative of I_star(1)\n",
    "def Istar1_thirdderiv(alpha, delta):\n",
    "    A          = np.sqrt(alpha**2. + delta**2.)\n",
    "    plus       = A + alpha\n",
    "    minus      = A - alpha\n",
    "    prefactor  = np.pi / 4. * delta * 1./A**7.\n",
    "    inner      = (special.jn(1, -minus/2.) * ((12. * alpha**3. - 3. * alpha**5. \n",
    "                                             + 3. * alpha * delta**2. * (-1. + delta**2.)\n",
    "                                             + 2. * alpha**4. * A\n",
    "                                             + 3. * alpha**2. * (-4. + delta**2.) * A\n",
    "                                             + delta**2. * (3. + delta**2.) * A) * special.j0(plus/2.)\n",
    "                                             - alpha * A * (alpha**4. + 13. * delta**2. \n",
    "                                                            + alpha**2. * (-2. + delta**2.))\n",
    "                                            * special.jn(1, plus/2.))\n",
    "                + special.j0(-minus/2.) * (-alpha * A * (alpha**4. + 3. * delta**2.\n",
    "                                       + alpha**2. * (-12. + delta**2.)) * special.j0(plus/2.)\n",
    "                                       + (-12. * alpha**3. + 3. * alpha**5. \n",
    "                                          - 3. * alpha * delta**2. * (-1. + delta**2.)\n",
    "                                          + 2. * alpha**4. * A + 3. * alpha**2. * (-4. + delta**2.) * A\n",
    "                                          + delta**2. * (3. + delta**2.) * A) * special.jn(1, plus/2.)))\n",
    "    ans         = prefactor * inner\n",
    "    return ans\n",
    "\n",
    "\n",
    "def Istar1_thirdderiv_integrand(x, alpha, delta):\n",
    "    ans = x**3. * np.sin(alpha * x) * special.jn(1, delta * np.sqrt(1. - x**2.))\n",
    "    return ans\n",
    "\n",
    "print quad(lambda x: Istar1_thirdderiv_integrand(x, alpha, delta), 0., 1.)[0]\n",
    "print Istar1_thirdderiv(alpha, delta)"
   ]
  },
  {
   "cell_type": "code",
   "execution_count": 15,
   "metadata": {
    "collapsed": false
   },
   "outputs": [
    {
     "name": "stdout",
     "output_type": "stream",
     "text": [
      "-0.157562811158\n",
      "-0.157562811158\n"
     ]
    }
   ],
   "source": [
    "#retrying I_2 calculation\n",
    "\n",
    "alpha = 1.5\n",
    "delta = -1. #NOTE: ANSWER IS OFF BY FACTOR OF -1 WHEN DELTA IS NEGATIVE\n",
    "\n",
    "def I_2_integrand(x, alpha, delta):\n",
    "    ans = x * np.sqrt(1. - x**2.) * np.sin(1 * alpha * x) * special.jn(1, delta * np.sqrt(1. - x**2.))\n",
    "    return ans\n",
    "\n",
    "def I_2_analytic(alpha, delta):\n",
    "    A     = np.sqrt(alpha**2. + delta**2.)\n",
    "    plus  = np.sqrt(A + alpha)\n",
    "    minus = np.sqrt(A - alpha)\n",
    "    num   = alpha * delta * (3. * A * np.cos(A) + (-3. + alpha**2. + delta**2.) * np.sin(A))\n",
    "    denom = A**5.\n",
    "    ans   = 2. * num / denom\n",
    "    return -ans\n",
    "\n",
    "\n",
    "print quad(lambda x: I_2_integrand(x, alpha, delta), -1., 1.)[0]\n",
    "print I_2_analytic(alpha, delta)"
   ]
  },
  {
   "cell_type": "code",
   "execution_count": 11,
   "metadata": {
    "collapsed": false
   },
   "outputs": [
    {
     "name": "stdout",
     "output_type": "stream",
     "text": [
      "0.0548519338781\n",
      "0.0548519338781\n"
     ]
    }
   ],
   "source": [
    "#calculating I_1(0)\n",
    "\n",
    "alpha = 3.1231\n",
    "delta = -12.5 \n",
    "\n",
    "def I_1_integrand(x, alpha, delta):\n",
    "    ans = (1. - x**2.) * np.cos(alpha * x) * special.j0(delta * np.sqrt(1. - x**2.))\n",
    "    return ans\n",
    "\n",
    "def I_1_analytic(alpha, delta):\n",
    "    A     = np.sqrt(alpha**2. + delta**2.)\n",
    "    minus = np.sqrt(A - alpha)\n",
    "    plus  = np.sqrt(A + alpha)\n",
    "    ds    = -np.sign(delta)\n",
    "    outer = 2. * delta**6. / (alpha**3. * A**5. * minus**7. * plus**7.)\n",
    "    inner = ((ds*2. * alpha * A**5. * (delta + ds*minus * plus)) * np.cos(alpha)\n",
    "             + alpha**3. * delta * ds*(2. * alpha**2. - delta**2.) * A * np.cos(A)\n",
    "             + ds*2. * alpha**4. * delta * A * np.sin(alpha)\n",
    "             + ds*4. * alpha**2. * delta**3. * A * np.sin(alpha)\n",
    "             + ds*2. * delta**5. * A * np.sin(alpha)\n",
    "             + 2. * alpha**4. * A * minus * plus * np.sin(alpha)\n",
    "             + 4. * alpha**2. * delta**2. * A * minus * plus * np.sin(alpha)\n",
    "             + 2. * delta**4. * A * minus * plus * np.sin(alpha)\n",
    "             - ds*alpha**3. * delta * (2. * alpha**2. + (-1. + alpha**2.) * delta**2. + delta**4.) * np.sin(A))\n",
    "    ans   = outer * inner\n",
    "    return ans\n",
    "\n",
    "def I_1_shortened(alpha, delta):\n",
    "    A     = np.sqrt(alpha**2. + delta**2.)\n",
    "    minus = np.sqrt(A - alpha)\n",
    "    plus  = np.sqrt(A + alpha)\n",
    "    if(alpha == 0 or delta == 0 or minus == 0.):\n",
    "        return 0.\n",
    "    ans = 2. * ( (2. * alpha**2. + (alpha**2. - 1.)*delta**2. + delta**4.)*np.sin(A) \n",
    "                - (2. * alpha**2. - delta**2.) * A * np.cos(A)) / A**5.\n",
    "    return ans\n",
    "\n",
    "\n",
    "print quad(lambda x: I_1_integrand(x, alpha, delta), -1., 1.)[0]\n",
    "print I_1_shortened(alpha, delta)"
   ]
  },
  {
   "cell_type": "code",
   "execution_count": null,
   "metadata": {
    "collapsed": true
   },
   "outputs": [],
   "source": []
  }
 ],
 "metadata": {
  "kernelspec": {
   "display_name": "Python 2",
   "language": "python",
   "name": "python2"
  },
  "language_info": {
   "codemirror_mode": {
    "name": "ipython",
    "version": 2
   },
   "file_extension": ".py",
   "mimetype": "text/x-python",
   "name": "python",
   "nbconvert_exporter": "python",
   "pygments_lexer": "ipython2",
   "version": "2.7.12"
  }
 },
 "nbformat": 4,
 "nbformat_minor": 2
}
